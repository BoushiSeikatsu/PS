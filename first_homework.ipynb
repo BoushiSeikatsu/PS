{
 "cells": [
  {
   "cell_type": "code",
   "execution_count": 2,
   "metadata": {},
   "outputs": [],
   "source": [
    "import pandas as pd \n",
    "import numpy as np \n",
    "import seaborn as sns\n",
    "import matplotlib.pyplot as plt\n",
    "import statsmodels.api as sm"
   ]
  },
  {
   "cell_type": "code",
   "execution_count": null,
   "metadata": {},
   "outputs": [
    {
     "data": {
      "text/html": [
       "<div>\n",
       "<style scoped>\n",
       "    .dataframe tbody tr th:only-of-type {\n",
       "        vertical-align: middle;\n",
       "    }\n",
       "\n",
       "    .dataframe tbody tr th {\n",
       "        vertical-align: top;\n",
       "    }\n",
       "\n",
       "    .dataframe thead th {\n",
       "        text-align: right;\n",
       "    }\n",
       "</style>\n",
       "<table border=\"1\" class=\"dataframe\">\n",
       "  <thead>\n",
       "    <tr style=\"text-align: right;\">\n",
       "      <th></th>\n",
       "      <th>Nvidia RTX 2080 Ti average FPS release (FPS)</th>\n",
       "      <th>Nvidia RTX 2080 Ti average FPS patched (FPS)</th>\n",
       "      <th>Nvidia RTX 3070 Ti average FPS release (FPS)</th>\n",
       "      <th>Nvidia RTX 3070 Ti average FPS patched (FPS)</th>\n",
       "      <th>AMD Radeon RX 6800 XT average FPS release (FPS)</th>\n",
       "      <th>AMD Radeon RX 6800 XT average FPS patched (FPS)</th>\n",
       "      <th>AMD Radeon RX 7700 XT average FPS release (FPS)</th>\n",
       "      <th>AMD Radeon RX 7700 XT average FPS patched (FPS)</th>\n",
       "    </tr>\n",
       "    <tr>\n",
       "      <th>id</th>\n",
       "      <th></th>\n",
       "      <th></th>\n",
       "      <th></th>\n",
       "      <th></th>\n",
       "      <th></th>\n",
       "      <th></th>\n",
       "      <th></th>\n",
       "      <th></th>\n",
       "    </tr>\n",
       "  </thead>\n",
       "  <tbody>\n",
       "    <tr>\n",
       "      <th>1</th>\n",
       "      <td>85.2</td>\n",
       "      <td>89.2</td>\n",
       "      <td>86.7</td>\n",
       "      <td>91.1</td>\n",
       "      <td>86.2</td>\n",
       "      <td>91.4</td>\n",
       "      <td>90.4</td>\n",
       "      <td>94.7</td>\n",
       "    </tr>\n",
       "    <tr>\n",
       "      <th>2</th>\n",
       "      <td>84.0</td>\n",
       "      <td>87.8</td>\n",
       "      <td>87.2</td>\n",
       "      <td>90.7</td>\n",
       "      <td>84.7</td>\n",
       "      <td>89.9</td>\n",
       "      <td>89.5</td>\n",
       "      <td>94.8</td>\n",
       "    </tr>\n",
       "    <tr>\n",
       "      <th>3</th>\n",
       "      <td>83.1</td>\n",
       "      <td>87.1</td>\n",
       "      <td>87.4</td>\n",
       "      <td>92.2</td>\n",
       "      <td>86.4</td>\n",
       "      <td>92.2</td>\n",
       "      <td>91.3</td>\n",
       "      <td>96.4</td>\n",
       "    </tr>\n",
       "    <tr>\n",
       "      <th>4</th>\n",
       "      <td>83.3</td>\n",
       "      <td>87.6</td>\n",
       "      <td>88.4</td>\n",
       "      <td>92.6</td>\n",
       "      <td>87.1</td>\n",
       "      <td>93.5</td>\n",
       "      <td>90.7</td>\n",
       "      <td>95.9</td>\n",
       "    </tr>\n",
       "    <tr>\n",
       "      <th>5</th>\n",
       "      <td>83.1</td>\n",
       "      <td>86.6</td>\n",
       "      <td>87.4</td>\n",
       "      <td>91.7</td>\n",
       "      <td>85.4</td>\n",
       "      <td>91.0</td>\n",
       "      <td>89.9</td>\n",
       "      <td>95.0</td>\n",
       "    </tr>\n",
       "    <tr>\n",
       "      <th>...</th>\n",
       "      <td>...</td>\n",
       "      <td>...</td>\n",
       "      <td>...</td>\n",
       "      <td>...</td>\n",
       "      <td>...</td>\n",
       "      <td>...</td>\n",
       "      <td>...</td>\n",
       "      <td>...</td>\n",
       "    </tr>\n",
       "    <tr>\n",
       "      <th>75</th>\n",
       "      <td>NaN</td>\n",
       "      <td>NaN</td>\n",
       "      <td>NaN</td>\n",
       "      <td>NaN</td>\n",
       "      <td>NaN</td>\n",
       "      <td>NaN</td>\n",
       "      <td>90.8</td>\n",
       "      <td>96.0</td>\n",
       "    </tr>\n",
       "    <tr>\n",
       "      <th>76</th>\n",
       "      <td>NaN</td>\n",
       "      <td>NaN</td>\n",
       "      <td>NaN</td>\n",
       "      <td>NaN</td>\n",
       "      <td>NaN</td>\n",
       "      <td>NaN</td>\n",
       "      <td>91.1</td>\n",
       "      <td>96.4</td>\n",
       "    </tr>\n",
       "    <tr>\n",
       "      <th>77</th>\n",
       "      <td>NaN</td>\n",
       "      <td>NaN</td>\n",
       "      <td>NaN</td>\n",
       "      <td>NaN</td>\n",
       "      <td>NaN</td>\n",
       "      <td>NaN</td>\n",
       "      <td>90.8</td>\n",
       "      <td>95.9</td>\n",
       "    </tr>\n",
       "    <tr>\n",
       "      <th>78</th>\n",
       "      <td>NaN</td>\n",
       "      <td>NaN</td>\n",
       "      <td>NaN</td>\n",
       "      <td>NaN</td>\n",
       "      <td>NaN</td>\n",
       "      <td>NaN</td>\n",
       "      <td>92.3</td>\n",
       "      <td>97.8</td>\n",
       "    </tr>\n",
       "    <tr>\n",
       "      <th>79</th>\n",
       "      <td>NaN</td>\n",
       "      <td>NaN</td>\n",
       "      <td>NaN</td>\n",
       "      <td>NaN</td>\n",
       "      <td>NaN</td>\n",
       "      <td>NaN</td>\n",
       "      <td>91.1</td>\n",
       "      <td>96.4</td>\n",
       "    </tr>\n",
       "  </tbody>\n",
       "</table>\n",
       "<p>79 rows × 8 columns</p>\n",
       "</div>"
      ],
      "text/plain": [
       "    Nvidia RTX 2080 Ti average FPS release (FPS)  \\\n",
       "id                                                 \n",
       "1                                           85.2   \n",
       "2                                           84.0   \n",
       "3                                           83.1   \n",
       "4                                           83.3   \n",
       "5                                           83.1   \n",
       "..                                           ...   \n",
       "75                                           NaN   \n",
       "76                                           NaN   \n",
       "77                                           NaN   \n",
       "78                                           NaN   \n",
       "79                                           NaN   \n",
       "\n",
       "    Nvidia RTX 2080 Ti average FPS patched (FPS)  \\\n",
       "id                                                 \n",
       "1                                           89.2   \n",
       "2                                           87.8   \n",
       "3                                           87.1   \n",
       "4                                           87.6   \n",
       "5                                           86.6   \n",
       "..                                           ...   \n",
       "75                                           NaN   \n",
       "76                                           NaN   \n",
       "77                                           NaN   \n",
       "78                                           NaN   \n",
       "79                                           NaN   \n",
       "\n",
       "    Nvidia RTX 3070 Ti average FPS release (FPS)  \\\n",
       "id                                                 \n",
       "1                                           86.7   \n",
       "2                                           87.2   \n",
       "3                                           87.4   \n",
       "4                                           88.4   \n",
       "5                                           87.4   \n",
       "..                                           ...   \n",
       "75                                           NaN   \n",
       "76                                           NaN   \n",
       "77                                           NaN   \n",
       "78                                           NaN   \n",
       "79                                           NaN   \n",
       "\n",
       "    Nvidia RTX 3070 Ti average FPS patched (FPS)  \\\n",
       "id                                                 \n",
       "1                                           91.1   \n",
       "2                                           90.7   \n",
       "3                                           92.2   \n",
       "4                                           92.6   \n",
       "5                                           91.7   \n",
       "..                                           ...   \n",
       "75                                           NaN   \n",
       "76                                           NaN   \n",
       "77                                           NaN   \n",
       "78                                           NaN   \n",
       "79                                           NaN   \n",
       "\n",
       "    AMD Radeon RX 6800 XT average FPS release (FPS)  \\\n",
       "id                                                    \n",
       "1                                              86.2   \n",
       "2                                              84.7   \n",
       "3                                              86.4   \n",
       "4                                              87.1   \n",
       "5                                              85.4   \n",
       "..                                              ...   \n",
       "75                                              NaN   \n",
       "76                                              NaN   \n",
       "77                                              NaN   \n",
       "78                                              NaN   \n",
       "79                                              NaN   \n",
       "\n",
       "    AMD Radeon RX 6800 XT average FPS patched (FPS)  \\\n",
       "id                                                    \n",
       "1                                              91.4   \n",
       "2                                              89.9   \n",
       "3                                              92.2   \n",
       "4                                              93.5   \n",
       "5                                              91.0   \n",
       "..                                              ...   \n",
       "75                                              NaN   \n",
       "76                                              NaN   \n",
       "77                                              NaN   \n",
       "78                                              NaN   \n",
       "79                                              NaN   \n",
       "\n",
       "    AMD Radeon RX 7700 XT average FPS release (FPS)  \\\n",
       "id                                                    \n",
       "1                                              90.4   \n",
       "2                                              89.5   \n",
       "3                                              91.3   \n",
       "4                                              90.7   \n",
       "5                                              89.9   \n",
       "..                                              ...   \n",
       "75                                             90.8   \n",
       "76                                             91.1   \n",
       "77                                             90.8   \n",
       "78                                             92.3   \n",
       "79                                             91.1   \n",
       "\n",
       "    AMD Radeon RX 7700 XT average FPS patched (FPS)  \n",
       "id                                                   \n",
       "1                                              94.7  \n",
       "2                                              94.8  \n",
       "3                                              96.4  \n",
       "4                                              95.9  \n",
       "5                                              95.0  \n",
       "..                                              ...  \n",
       "75                                             96.0  \n",
       "76                                             96.4  \n",
       "77                                             95.9  \n",
       "78                                             97.8  \n",
       "79                                             96.4  \n",
       "\n",
       "[79 rows x 8 columns]"
      ]
     },
     "execution_count": 47,
     "metadata": {},
     "output_type": "execute_result"
    }
   ],
   "source": [
    "df = pd.read_csv(\"./ukol_108.csv\", index_col='id')\n",
    "df"
   ]
  },
  {
   "cell_type": "code",
   "execution_count": 4,
   "metadata": {},
   "outputs": [
    {
     "data": {
      "text/plain": [
       "False"
      ]
     },
     "execution_count": 4,
     "metadata": {},
     "output_type": "execute_result"
    }
   ],
   "source": [
    "# Lets fill nan values with means\n",
    "for column in df.columns:\n",
    "    mean = df[column].mean()\n",
    "    df[column] = df[column].fillna(value=mean)\n",
    "df.isnull().values.any()"
   ]
  },
  {
   "cell_type": "code",
   "execution_count": 5,
   "metadata": {},
   "outputs": [
    {
     "data": {
      "text/html": [
       "<div>\n",
       "<style scoped>\n",
       "    .dataframe tbody tr th:only-of-type {\n",
       "        vertical-align: middle;\n",
       "    }\n",
       "\n",
       "    .dataframe tbody tr th {\n",
       "        vertical-align: top;\n",
       "    }\n",
       "\n",
       "    .dataframe thead th {\n",
       "        text-align: right;\n",
       "    }\n",
       "</style>\n",
       "<table border=\"1\" class=\"dataframe\">\n",
       "  <thead>\n",
       "    <tr style=\"text-align: right;\">\n",
       "      <th></th>\n",
       "      <th>Nvidia RTX 2080 Ti average FPS release (FPS)</th>\n",
       "      <th>Nvidia RTX 2080 Ti average FPS patched (FPS)</th>\n",
       "      <th>Nvidia RTX 3070 Ti average FPS release (FPS)</th>\n",
       "      <th>Nvidia RTX 3070 Ti average FPS patched (FPS)</th>\n",
       "      <th>AMD Radeon RX 6800 XT average FPS release (FPS)</th>\n",
       "      <th>AMD Radeon RX 6800 XT average FPS patched (FPS)</th>\n",
       "      <th>AMD Radeon RX 7700 XT average FPS release (FPS)</th>\n",
       "      <th>AMD Radeon RX 7700 XT average FPS patched (FPS)</th>\n",
       "    </tr>\n",
       "    <tr>\n",
       "      <th>id</th>\n",
       "      <th></th>\n",
       "      <th></th>\n",
       "      <th></th>\n",
       "      <th></th>\n",
       "      <th></th>\n",
       "      <th></th>\n",
       "      <th></th>\n",
       "      <th></th>\n",
       "    </tr>\n",
       "  </thead>\n",
       "  <tbody>\n",
       "    <tr>\n",
       "      <th>1</th>\n",
       "      <td>85.200000</td>\n",
       "      <td>89.200000</td>\n",
       "      <td>86.7</td>\n",
       "      <td>91.100000</td>\n",
       "      <td>86.2</td>\n",
       "      <td>91.400000</td>\n",
       "      <td>90.4</td>\n",
       "      <td>94.7</td>\n",
       "    </tr>\n",
       "    <tr>\n",
       "      <th>2</th>\n",
       "      <td>84.000000</td>\n",
       "      <td>87.800000</td>\n",
       "      <td>87.2</td>\n",
       "      <td>90.700000</td>\n",
       "      <td>84.7</td>\n",
       "      <td>89.900000</td>\n",
       "      <td>89.5</td>\n",
       "      <td>94.8</td>\n",
       "    </tr>\n",
       "    <tr>\n",
       "      <th>3</th>\n",
       "      <td>83.100000</td>\n",
       "      <td>87.100000</td>\n",
       "      <td>87.4</td>\n",
       "      <td>92.200000</td>\n",
       "      <td>86.4</td>\n",
       "      <td>92.200000</td>\n",
       "      <td>91.3</td>\n",
       "      <td>96.4</td>\n",
       "    </tr>\n",
       "    <tr>\n",
       "      <th>4</th>\n",
       "      <td>83.300000</td>\n",
       "      <td>87.600000</td>\n",
       "      <td>88.4</td>\n",
       "      <td>92.600000</td>\n",
       "      <td>87.1</td>\n",
       "      <td>93.500000</td>\n",
       "      <td>90.7</td>\n",
       "      <td>95.9</td>\n",
       "    </tr>\n",
       "    <tr>\n",
       "      <th>5</th>\n",
       "      <td>83.100000</td>\n",
       "      <td>86.600000</td>\n",
       "      <td>87.4</td>\n",
       "      <td>91.700000</td>\n",
       "      <td>85.4</td>\n",
       "      <td>91.000000</td>\n",
       "      <td>89.9</td>\n",
       "      <td>95.0</td>\n",
       "    </tr>\n",
       "    <tr>\n",
       "      <th>...</th>\n",
       "      <td>...</td>\n",
       "      <td>...</td>\n",
       "      <td>...</td>\n",
       "      <td>...</td>\n",
       "      <td>...</td>\n",
       "      <td>...</td>\n",
       "      <td>...</td>\n",
       "      <td>...</td>\n",
       "    </tr>\n",
       "    <tr>\n",
       "      <th>75</th>\n",
       "      <td>83.865714</td>\n",
       "      <td>87.647143</td>\n",
       "      <td>86.8</td>\n",
       "      <td>91.201429</td>\n",
       "      <td>85.9</td>\n",
       "      <td>91.536486</td>\n",
       "      <td>90.8</td>\n",
       "      <td>96.0</td>\n",
       "    </tr>\n",
       "    <tr>\n",
       "      <th>76</th>\n",
       "      <td>83.865714</td>\n",
       "      <td>87.647143</td>\n",
       "      <td>86.8</td>\n",
       "      <td>91.201429</td>\n",
       "      <td>85.9</td>\n",
       "      <td>91.536486</td>\n",
       "      <td>91.1</td>\n",
       "      <td>96.4</td>\n",
       "    </tr>\n",
       "    <tr>\n",
       "      <th>77</th>\n",
       "      <td>83.865714</td>\n",
       "      <td>87.647143</td>\n",
       "      <td>86.8</td>\n",
       "      <td>91.201429</td>\n",
       "      <td>85.9</td>\n",
       "      <td>91.536486</td>\n",
       "      <td>90.8</td>\n",
       "      <td>95.9</td>\n",
       "    </tr>\n",
       "    <tr>\n",
       "      <th>78</th>\n",
       "      <td>83.865714</td>\n",
       "      <td>87.647143</td>\n",
       "      <td>86.8</td>\n",
       "      <td>91.201429</td>\n",
       "      <td>85.9</td>\n",
       "      <td>91.536486</td>\n",
       "      <td>92.3</td>\n",
       "      <td>97.8</td>\n",
       "    </tr>\n",
       "    <tr>\n",
       "      <th>79</th>\n",
       "      <td>83.865714</td>\n",
       "      <td>87.647143</td>\n",
       "      <td>86.8</td>\n",
       "      <td>91.201429</td>\n",
       "      <td>85.9</td>\n",
       "      <td>91.536486</td>\n",
       "      <td>91.1</td>\n",
       "      <td>96.4</td>\n",
       "    </tr>\n",
       "  </tbody>\n",
       "</table>\n",
       "<p>79 rows × 8 columns</p>\n",
       "</div>"
      ],
      "text/plain": [
       "    Nvidia RTX 2080 Ti average FPS release (FPS)  \\\n",
       "id                                                 \n",
       "1                                      85.200000   \n",
       "2                                      84.000000   \n",
       "3                                      83.100000   \n",
       "4                                      83.300000   \n",
       "5                                      83.100000   \n",
       "..                                           ...   \n",
       "75                                     83.865714   \n",
       "76                                     83.865714   \n",
       "77                                     83.865714   \n",
       "78                                     83.865714   \n",
       "79                                     83.865714   \n",
       "\n",
       "    Nvidia RTX 2080 Ti average FPS patched (FPS)  \\\n",
       "id                                                 \n",
       "1                                      89.200000   \n",
       "2                                      87.800000   \n",
       "3                                      87.100000   \n",
       "4                                      87.600000   \n",
       "5                                      86.600000   \n",
       "..                                           ...   \n",
       "75                                     87.647143   \n",
       "76                                     87.647143   \n",
       "77                                     87.647143   \n",
       "78                                     87.647143   \n",
       "79                                     87.647143   \n",
       "\n",
       "    Nvidia RTX 3070 Ti average FPS release (FPS)  \\\n",
       "id                                                 \n",
       "1                                           86.7   \n",
       "2                                           87.2   \n",
       "3                                           87.4   \n",
       "4                                           88.4   \n",
       "5                                           87.4   \n",
       "..                                           ...   \n",
       "75                                          86.8   \n",
       "76                                          86.8   \n",
       "77                                          86.8   \n",
       "78                                          86.8   \n",
       "79                                          86.8   \n",
       "\n",
       "    Nvidia RTX 3070 Ti average FPS patched (FPS)  \\\n",
       "id                                                 \n",
       "1                                      91.100000   \n",
       "2                                      90.700000   \n",
       "3                                      92.200000   \n",
       "4                                      92.600000   \n",
       "5                                      91.700000   \n",
       "..                                           ...   \n",
       "75                                     91.201429   \n",
       "76                                     91.201429   \n",
       "77                                     91.201429   \n",
       "78                                     91.201429   \n",
       "79                                     91.201429   \n",
       "\n",
       "    AMD Radeon RX 6800 XT average FPS release (FPS)  \\\n",
       "id                                                    \n",
       "1                                              86.2   \n",
       "2                                              84.7   \n",
       "3                                              86.4   \n",
       "4                                              87.1   \n",
       "5                                              85.4   \n",
       "..                                              ...   \n",
       "75                                             85.9   \n",
       "76                                             85.9   \n",
       "77                                             85.9   \n",
       "78                                             85.9   \n",
       "79                                             85.9   \n",
       "\n",
       "    AMD Radeon RX 6800 XT average FPS patched (FPS)  \\\n",
       "id                                                    \n",
       "1                                         91.400000   \n",
       "2                                         89.900000   \n",
       "3                                         92.200000   \n",
       "4                                         93.500000   \n",
       "5                                         91.000000   \n",
       "..                                              ...   \n",
       "75                                        91.536486   \n",
       "76                                        91.536486   \n",
       "77                                        91.536486   \n",
       "78                                        91.536486   \n",
       "79                                        91.536486   \n",
       "\n",
       "    AMD Radeon RX 7700 XT average FPS release (FPS)  \\\n",
       "id                                                    \n",
       "1                                              90.4   \n",
       "2                                              89.5   \n",
       "3                                              91.3   \n",
       "4                                              90.7   \n",
       "5                                              89.9   \n",
       "..                                              ...   \n",
       "75                                             90.8   \n",
       "76                                             91.1   \n",
       "77                                             90.8   \n",
       "78                                             92.3   \n",
       "79                                             91.1   \n",
       "\n",
       "    AMD Radeon RX 7700 XT average FPS patched (FPS)  \n",
       "id                                                   \n",
       "1                                              94.7  \n",
       "2                                              94.8  \n",
       "3                                              96.4  \n",
       "4                                              95.9  \n",
       "5                                              95.0  \n",
       "..                                              ...  \n",
       "75                                             96.0  \n",
       "76                                             96.4  \n",
       "77                                             95.9  \n",
       "78                                             97.8  \n",
       "79                                             96.4  \n",
       "\n",
       "[79 rows x 8 columns]"
      ]
     },
     "execution_count": 5,
     "metadata": {},
     "output_type": "execute_result"
    }
   ],
   "source": [
    "df"
   ]
  },
  {
   "cell_type": "code",
   "execution_count": 6,
   "metadata": {},
   "outputs": [
    {
     "data": {
      "text/html": [
       "<div>\n",
       "<style scoped>\n",
       "    .dataframe tbody tr th:only-of-type {\n",
       "        vertical-align: middle;\n",
       "    }\n",
       "\n",
       "    .dataframe tbody tr th {\n",
       "        vertical-align: top;\n",
       "    }\n",
       "\n",
       "    .dataframe thead th {\n",
       "        text-align: right;\n",
       "    }\n",
       "</style>\n",
       "<table border=\"1\" class=\"dataframe\">\n",
       "  <thead>\n",
       "    <tr style=\"text-align: right;\">\n",
       "      <th></th>\n",
       "      <th>Nvidia RTX 2080 Ti average FPS patched (FPS)</th>\n",
       "      <th>Nvidia RTX 3070 Ti average FPS patched (FPS)</th>\n",
       "      <th>AMD Radeon RX 6800 XT average FPS patched (FPS)</th>\n",
       "      <th>AMD Radeon RX 7700 XT average FPS patched (FPS)</th>\n",
       "    </tr>\n",
       "    <tr>\n",
       "      <th>id</th>\n",
       "      <th></th>\n",
       "      <th></th>\n",
       "      <th></th>\n",
       "      <th></th>\n",
       "    </tr>\n",
       "  </thead>\n",
       "  <tbody>\n",
       "    <tr>\n",
       "      <th>1</th>\n",
       "      <td>89.200000</td>\n",
       "      <td>91.100000</td>\n",
       "      <td>91.400000</td>\n",
       "      <td>94.7</td>\n",
       "    </tr>\n",
       "    <tr>\n",
       "      <th>2</th>\n",
       "      <td>87.800000</td>\n",
       "      <td>90.700000</td>\n",
       "      <td>89.900000</td>\n",
       "      <td>94.8</td>\n",
       "    </tr>\n",
       "    <tr>\n",
       "      <th>3</th>\n",
       "      <td>87.100000</td>\n",
       "      <td>92.200000</td>\n",
       "      <td>92.200000</td>\n",
       "      <td>96.4</td>\n",
       "    </tr>\n",
       "    <tr>\n",
       "      <th>4</th>\n",
       "      <td>87.600000</td>\n",
       "      <td>92.600000</td>\n",
       "      <td>93.500000</td>\n",
       "      <td>95.9</td>\n",
       "    </tr>\n",
       "    <tr>\n",
       "      <th>5</th>\n",
       "      <td>86.600000</td>\n",
       "      <td>91.700000</td>\n",
       "      <td>91.000000</td>\n",
       "      <td>95.0</td>\n",
       "    </tr>\n",
       "    <tr>\n",
       "      <th>...</th>\n",
       "      <td>...</td>\n",
       "      <td>...</td>\n",
       "      <td>...</td>\n",
       "      <td>...</td>\n",
       "    </tr>\n",
       "    <tr>\n",
       "      <th>75</th>\n",
       "      <td>87.647143</td>\n",
       "      <td>91.201429</td>\n",
       "      <td>91.536486</td>\n",
       "      <td>96.0</td>\n",
       "    </tr>\n",
       "    <tr>\n",
       "      <th>76</th>\n",
       "      <td>87.647143</td>\n",
       "      <td>91.201429</td>\n",
       "      <td>91.536486</td>\n",
       "      <td>96.4</td>\n",
       "    </tr>\n",
       "    <tr>\n",
       "      <th>77</th>\n",
       "      <td>87.647143</td>\n",
       "      <td>91.201429</td>\n",
       "      <td>91.536486</td>\n",
       "      <td>95.9</td>\n",
       "    </tr>\n",
       "    <tr>\n",
       "      <th>78</th>\n",
       "      <td>87.647143</td>\n",
       "      <td>91.201429</td>\n",
       "      <td>91.536486</td>\n",
       "      <td>97.8</td>\n",
       "    </tr>\n",
       "    <tr>\n",
       "      <th>79</th>\n",
       "      <td>87.647143</td>\n",
       "      <td>91.201429</td>\n",
       "      <td>91.536486</td>\n",
       "      <td>96.4</td>\n",
       "    </tr>\n",
       "  </tbody>\n",
       "</table>\n",
       "<p>79 rows × 4 columns</p>\n",
       "</div>"
      ],
      "text/plain": [
       "    Nvidia RTX 2080 Ti average FPS patched (FPS)  \\\n",
       "id                                                 \n",
       "1                                      89.200000   \n",
       "2                                      87.800000   \n",
       "3                                      87.100000   \n",
       "4                                      87.600000   \n",
       "5                                      86.600000   \n",
       "..                                           ...   \n",
       "75                                     87.647143   \n",
       "76                                     87.647143   \n",
       "77                                     87.647143   \n",
       "78                                     87.647143   \n",
       "79                                     87.647143   \n",
       "\n",
       "    Nvidia RTX 3070 Ti average FPS patched (FPS)  \\\n",
       "id                                                 \n",
       "1                                      91.100000   \n",
       "2                                      90.700000   \n",
       "3                                      92.200000   \n",
       "4                                      92.600000   \n",
       "5                                      91.700000   \n",
       "..                                           ...   \n",
       "75                                     91.201429   \n",
       "76                                     91.201429   \n",
       "77                                     91.201429   \n",
       "78                                     91.201429   \n",
       "79                                     91.201429   \n",
       "\n",
       "    AMD Radeon RX 6800 XT average FPS patched (FPS)  \\\n",
       "id                                                    \n",
       "1                                         91.400000   \n",
       "2                                         89.900000   \n",
       "3                                         92.200000   \n",
       "4                                         93.500000   \n",
       "5                                         91.000000   \n",
       "..                                              ...   \n",
       "75                                        91.536486   \n",
       "76                                        91.536486   \n",
       "77                                        91.536486   \n",
       "78                                        91.536486   \n",
       "79                                        91.536486   \n",
       "\n",
       "    AMD Radeon RX 7700 XT average FPS patched (FPS)  \n",
       "id                                                   \n",
       "1                                              94.7  \n",
       "2                                              94.8  \n",
       "3                                              96.4  \n",
       "4                                              95.9  \n",
       "5                                              95.0  \n",
       "..                                              ...  \n",
       "75                                             96.0  \n",
       "76                                             96.4  \n",
       "77                                             95.9  \n",
       "78                                             97.8  \n",
       "79                                             96.4  \n",
       "\n",
       "[79 rows x 4 columns]"
      ]
     },
     "execution_count": 6,
     "metadata": {},
     "output_type": "execute_result"
    }
   ],
   "source": [
    "# Split dataframes\n",
    "dfRelease = df[df.columns[::2]]\n",
    "#dfRelease\n",
    "dfPatched = df[df.columns[1::2]]\n",
    "dfPatched"
   ]
  },
  {
   "cell_type": "code",
   "execution_count": 7,
   "metadata": {},
   "outputs": [
    {
     "name": "stdout",
     "output_type": "stream",
     "text": [
      "Patch boost in percentage for Nvidia RTX 2080 Ti: 4.51%\n",
      "Patch boost in percentage for Nvidia RTX 3070 Ti: 5.07%\n",
      "Patch boost in percentage for AMD Radeon RX 6800 XT: 6.56%\n",
      "Patch boost in percentage for AMD Radeon RX 7700 XT: 5.19%\n"
     ]
    }
   ],
   "source": [
    "print(f\"Patch boost in percentage for Nvidia RTX 2080 Ti: {round((dfPatched[dfPatched.columns[0]].mean()/dfRelease[dfRelease.columns[0]].mean() - 1)*100,2)}%\")\n",
    "print(f\"Patch boost in percentage for Nvidia RTX 3070 Ti: {round((dfPatched[dfPatched.columns[1]].mean()/dfRelease[dfRelease.columns[1]].mean() - 1)*100,2)}%\")\n",
    "print(f\"Patch boost in percentage for AMD Radeon RX 6800 XT: {round((dfPatched[dfPatched.columns[2]].mean()/dfRelease[dfRelease.columns[2]].mean() - 1)*100,2)}%\")\n",
    "print(f\"Patch boost in percentage for AMD Radeon RX 7700 XT: {round((dfPatched[dfPatched.columns[3]].mean()/dfRelease[dfRelease.columns[3]].mean() - 1)*100,2)}%\")"
   ]
  },
  {
   "cell_type": "code",
   "execution_count": 8,
   "metadata": {},
   "outputs": [
    {
     "data": {
      "text/html": [
       "<div>\n",
       "<style scoped>\n",
       "    .dataframe tbody tr th:only-of-type {\n",
       "        vertical-align: middle;\n",
       "    }\n",
       "\n",
       "    .dataframe tbody tr th {\n",
       "        vertical-align: top;\n",
       "    }\n",
       "\n",
       "    .dataframe thead th {\n",
       "        text-align: right;\n",
       "    }\n",
       "</style>\n",
       "<table border=\"1\" class=\"dataframe\">\n",
       "  <thead>\n",
       "    <tr style=\"text-align: right;\">\n",
       "      <th></th>\n",
       "      <th>Nvidia RTX 2080 Ti average FPS release (FPS)</th>\n",
       "      <th>Nvidia RTX 2080 Ti average FPS patched (FPS)</th>\n",
       "      <th>Nvidia RTX 3070 Ti average FPS release (FPS)</th>\n",
       "      <th>Nvidia RTX 3070 Ti average FPS patched (FPS)</th>\n",
       "      <th>AMD Radeon RX 6800 XT average FPS release (FPS)</th>\n",
       "      <th>AMD Radeon RX 6800 XT average FPS patched (FPS)</th>\n",
       "      <th>AMD Radeon RX 7700 XT average FPS release (FPS)</th>\n",
       "      <th>AMD Radeon RX 7700 XT average FPS patched (FPS)</th>\n",
       "    </tr>\n",
       "  </thead>\n",
       "  <tbody>\n",
       "    <tr>\n",
       "      <th>count</th>\n",
       "      <td>79.000000</td>\n",
       "      <td>79.000000</td>\n",
       "      <td>79.000000</td>\n",
       "      <td>79.000000</td>\n",
       "      <td>79.000000</td>\n",
       "      <td>79.000000</td>\n",
       "      <td>79.000000</td>\n",
       "      <td>79.000000</td>\n",
       "    </tr>\n",
       "    <tr>\n",
       "      <th>mean</th>\n",
       "      <td>83.865714</td>\n",
       "      <td>87.647143</td>\n",
       "      <td>86.800000</td>\n",
       "      <td>91.201429</td>\n",
       "      <td>85.900000</td>\n",
       "      <td>91.536486</td>\n",
       "      <td>90.697468</td>\n",
       "      <td>95.408861</td>\n",
       "    </tr>\n",
       "    <tr>\n",
       "      <th>std</th>\n",
       "      <td>1.401820</td>\n",
       "      <td>1.779421</td>\n",
       "      <td>1.386658</td>\n",
       "      <td>1.727418</td>\n",
       "      <td>1.374213</td>\n",
       "      <td>2.432450</td>\n",
       "      <td>1.378030</td>\n",
       "      <td>1.887488</td>\n",
       "    </tr>\n",
       "    <tr>\n",
       "      <th>min</th>\n",
       "      <td>81.800000</td>\n",
       "      <td>78.000000</td>\n",
       "      <td>77.200000</td>\n",
       "      <td>81.500000</td>\n",
       "      <td>76.100000</td>\n",
       "      <td>71.900000</td>\n",
       "      <td>87.100000</td>\n",
       "      <td>84.800000</td>\n",
       "    </tr>\n",
       "    <tr>\n",
       "      <th>25%</th>\n",
       "      <td>83.300000</td>\n",
       "      <td>87.100000</td>\n",
       "      <td>86.400000</td>\n",
       "      <td>90.700000</td>\n",
       "      <td>85.500000</td>\n",
       "      <td>91.100000</td>\n",
       "      <td>90.000000</td>\n",
       "      <td>94.800000</td>\n",
       "    </tr>\n",
       "    <tr>\n",
       "      <th>50%</th>\n",
       "      <td>83.800000</td>\n",
       "      <td>87.647143</td>\n",
       "      <td>86.900000</td>\n",
       "      <td>91.201429</td>\n",
       "      <td>85.900000</td>\n",
       "      <td>91.700000</td>\n",
       "      <td>90.600000</td>\n",
       "      <td>95.500000</td>\n",
       "    </tr>\n",
       "    <tr>\n",
       "      <th>75%</th>\n",
       "      <td>84.200000</td>\n",
       "      <td>88.100000</td>\n",
       "      <td>87.400000</td>\n",
       "      <td>91.900000</td>\n",
       "      <td>86.600000</td>\n",
       "      <td>92.350000</td>\n",
       "      <td>91.150000</td>\n",
       "      <td>96.100000</td>\n",
       "    </tr>\n",
       "    <tr>\n",
       "      <th>max</th>\n",
       "      <td>93.900000</td>\n",
       "      <td>97.700000</td>\n",
       "      <td>88.700000</td>\n",
       "      <td>99.900000</td>\n",
       "      <td>87.800000</td>\n",
       "      <td>93.700000</td>\n",
       "      <td>99.100000</td>\n",
       "      <td>104.100000</td>\n",
       "    </tr>\n",
       "  </tbody>\n",
       "</table>\n",
       "</div>"
      ],
      "text/plain": [
       "       Nvidia RTX 2080 Ti average FPS release (FPS)  \\\n",
       "count                                     79.000000   \n",
       "mean                                      83.865714   \n",
       "std                                        1.401820   \n",
       "min                                       81.800000   \n",
       "25%                                       83.300000   \n",
       "50%                                       83.800000   \n",
       "75%                                       84.200000   \n",
       "max                                       93.900000   \n",
       "\n",
       "       Nvidia RTX 2080 Ti average FPS patched (FPS)  \\\n",
       "count                                     79.000000   \n",
       "mean                                      87.647143   \n",
       "std                                        1.779421   \n",
       "min                                       78.000000   \n",
       "25%                                       87.100000   \n",
       "50%                                       87.647143   \n",
       "75%                                       88.100000   \n",
       "max                                       97.700000   \n",
       "\n",
       "       Nvidia RTX 3070 Ti average FPS release (FPS)  \\\n",
       "count                                     79.000000   \n",
       "mean                                      86.800000   \n",
       "std                                        1.386658   \n",
       "min                                       77.200000   \n",
       "25%                                       86.400000   \n",
       "50%                                       86.900000   \n",
       "75%                                       87.400000   \n",
       "max                                       88.700000   \n",
       "\n",
       "       Nvidia RTX 3070 Ti average FPS patched (FPS)  \\\n",
       "count                                     79.000000   \n",
       "mean                                      91.201429   \n",
       "std                                        1.727418   \n",
       "min                                       81.500000   \n",
       "25%                                       90.700000   \n",
       "50%                                       91.201429   \n",
       "75%                                       91.900000   \n",
       "max                                       99.900000   \n",
       "\n",
       "       AMD Radeon RX 6800 XT average FPS release (FPS)  \\\n",
       "count                                        79.000000   \n",
       "mean                                         85.900000   \n",
       "std                                           1.374213   \n",
       "min                                          76.100000   \n",
       "25%                                          85.500000   \n",
       "50%                                          85.900000   \n",
       "75%                                          86.600000   \n",
       "max                                          87.800000   \n",
       "\n",
       "       AMD Radeon RX 6800 XT average FPS patched (FPS)  \\\n",
       "count                                        79.000000   \n",
       "mean                                         91.536486   \n",
       "std                                           2.432450   \n",
       "min                                          71.900000   \n",
       "25%                                          91.100000   \n",
       "50%                                          91.700000   \n",
       "75%                                          92.350000   \n",
       "max                                          93.700000   \n",
       "\n",
       "       AMD Radeon RX 7700 XT average FPS release (FPS)  \\\n",
       "count                                        79.000000   \n",
       "mean                                         90.697468   \n",
       "std                                           1.378030   \n",
       "min                                          87.100000   \n",
       "25%                                          90.000000   \n",
       "50%                                          90.600000   \n",
       "75%                                          91.150000   \n",
       "max                                          99.100000   \n",
       "\n",
       "       AMD Radeon RX 7700 XT average FPS patched (FPS)  \n",
       "count                                        79.000000  \n",
       "mean                                         95.408861  \n",
       "std                                           1.887488  \n",
       "min                                          84.800000  \n",
       "25%                                          94.800000  \n",
       "50%                                          95.500000  \n",
       "75%                                          96.100000  \n",
       "max                                         104.100000  "
      ]
     },
     "execution_count": 8,
     "metadata": {},
     "output_type": "execute_result"
    }
   ],
   "source": [
    "df.describe()"
   ]
  },
  {
   "cell_type": "code",
   "execution_count": 9,
   "metadata": {},
   "outputs": [],
   "source": [
    "def describeColumn(data, colName):\n",
    "    rozsah_souboru = data[colName].max() - data[colName].min()  # Range of the dataset\n",
    "    minimum = data[colName].min()  # Minimum\n",
    "    dolni_kvartil = data[colName].quantile(0.25)  # Lower quartile (Q1)\n",
    "    median = data[colName].median()  # Median\n",
    "    prumer = data[colName].mean()  # Mean\n",
    "    horni_kvartil = data[colName].quantile(0.75)  # Upper quartile (Q3)\n",
    "    maximum = data[colName].max()  # Maximum\n",
    "    smerodatna_odchylka = data[colName].std()  # Standard deviation\n",
    "    variacni_koeficient = (smerodatna_odchylka / prumer) * 100  # Coefficient of variation (%)\n",
    "    sikmost = data[colName].skew()  # Skewness\n",
    "    spicatost = data[colName].kurtosis()  # Kurtosis\n",
    "\n",
    "    # Interquartile range (IQR)\n",
    "    IQR = horni_kvartil - dolni_kvartil\n",
    "\n",
    "    # Lower and upper bounds\n",
    "    dolni_mez = dolni_kvartil - 1.5 * IQR\n",
    "    horni_mez = horni_kvartil + 1.5 * IQR\n",
    "\n",
    "    statistics = {\n",
    "        \"Rozsah souboru\": rozsah_souboru,\n",
    "        \"Minimum\": minimum,\n",
    "        \"Dolní kvartil (Q1)\": dolni_kvartil,\n",
    "        \"Median\": median,\n",
    "        \"Prumer\": prumer,\n",
    "        \"Horní kvartil (Q3)\": horni_kvartil,\n",
    "        \"Maximum\": maximum,\n",
    "        \"Smerodatná odchylka\": smerodatna_odchylka,\n",
    "        \"Variacni koeficient (%)\": variacni_koeficient,\n",
    "        \"Sikmost\": sikmost,\n",
    "        \"Spicatost\": spicatost,\n",
    "        \"Dolní mez\": dolni_mez,\n",
    "        \"Horní mez\": horni_mez\n",
    "    }\n",
    "    return statistics"
   ]
  },
  {
   "cell_type": "code",
   "execution_count": 10,
   "metadata": {},
   "outputs": [
    {
     "data": {
      "text/plain": [
       "{'Rozsah souboru': 7.299999999999997,\n",
       " 'Prumer': 4.711392405063279,\n",
       " 'Median': 4.900000000000006,\n",
       " 'Horní mez': 5.174999999999969,\n",
       " 'Dolní mez': 4.575000000000003,\n",
       " 'Smerodatná odchylka': 0.5094580562976283,\n",
       " 'Spicatost': 0.10927500635627041,\n",
       " 'Sikmost': -3.8235857746065145,\n",
       " 'Maximum': 5.0,\n",
       " 'Variacni koeficient (%)': 0.45894537902526555,\n",
       " 'Minimum': -2.299999999999997,\n",
       " 'Horní kvartil (Q3)': 4.949999999999989,\n",
       " 'Dolní kvartil (Q1)': 4.799999999999997}"
      ]
     },
     "execution_count": 10,
     "metadata": {},
     "output_type": "execute_result"
    }
   ],
   "source": [
    "RTXBeforePatch = describeColumn(df, \"AMD Radeon RX 7700 XT average FPS release (FPS)\")\n",
    "RTXAfterPatch = describeColumn(df, \"AMD Radeon RX 7700 XT average FPS patched (FPS)\")\n",
    "res = {key: RTXAfterPatch[key] - RTXBeforePatch[key] for key in set(RTXBeforePatch) & set(RTXAfterPatch)}\n",
    "res"
   ]
  },
  {
   "cell_type": "code",
   "execution_count": 11,
   "metadata": {},
   "outputs": [
    {
     "data": {
      "text/plain": [
       "{'Rozsah souboru': 6.900000000000006,\n",
       " 'Prumer': 4.4014285714285535,\n",
       " 'Median': 4.301428571428573,\n",
       " 'Horní mez': 4.800000000000011,\n",
       " 'Dolní mez': 4.0,\n",
       " 'Smerodatná odchylka': 0.34075984119944014,\n",
       " 'Spicatost': -9.355969559245064,\n",
       " 'Sikmost': 3.6226148644143223,\n",
       " 'Maximum': 11.200000000000003,\n",
       " 'Variacni koeficient (%)': 0.2965365809423277,\n",
       " 'Minimum': 4.299999999999997,\n",
       " 'Horní kvartil (Q3)': 4.5,\n",
       " 'Dolní kvartil (Q1)': 4.299999999999997}"
      ]
     },
     "execution_count": 11,
     "metadata": {},
     "output_type": "execute_result"
    }
   ],
   "source": [
    "RTXBeforePatch = describeColumn(df, \"Nvidia RTX 3070 Ti average FPS release (FPS)\")\n",
    "RTXAfterPatch = describeColumn(df, \"Nvidia RTX 3070 Ti average FPS patched (FPS)\")\n",
    "res = {key: RTXAfterPatch[key] - RTXBeforePatch[key] for key in set(RTXBeforePatch) & set(RTXAfterPatch)}\n",
    "res"
   ]
  },
  {
   "cell_type": "code",
   "execution_count": 12,
   "metadata": {},
   "outputs": [
    {
     "data": {
      "image/png": "[encoded data removed]",
      "text/plain": [
       "<Figure size 640x480 with 1 Axes>"
      ]
     },
     "metadata": {},
     "output_type": "display_data"
    }
   ],
   "source": [
    "df.boxplot(column=[\"Nvidia RTX 3070 Ti average FPS release (FPS)\", \"Nvidia RTX 3070 Ti average FPS patched (FPS)\", \"AMD Radeon RX 7700 XT average FPS release (FPS)\", \"AMD Radeon RX 7700 XT average FPS patched (FPS)\"], fontsize=10, rot=60)\n",
    "plt.savefig(\"boxplot.png\", bbox_inches=\"tight\")"
   ]
  },
  {
   "cell_type": "code",
   "execution_count": 13,
   "metadata": {},
   "outputs": [
    {
     "data": {
      "text/plain": [
       "Nvidia RTX 2080 Ti average FPS release (FPS)       0\n",
       "Nvidia RTX 2080 Ti average FPS patched (FPS)       0\n",
       "Nvidia RTX 3070 Ti average FPS release (FPS)       0\n",
       "Nvidia RTX 3070 Ti average FPS patched (FPS)       0\n",
       "AMD Radeon RX 6800 XT average FPS release (FPS)    0\n",
       "AMD Radeon RX 6800 XT average FPS patched (FPS)    0\n",
       "AMD Radeon RX 7700 XT average FPS release (FPS)    0\n",
       "AMD Radeon RX 7700 XT average FPS patched (FPS)    0\n",
       "dtype: int64"
      ]
     },
     "execution_count": 13,
     "metadata": {},
     "output_type": "execute_result"
    }
   ],
   "source": [
    "df.isna().sum()"
   ]
  },
  {
   "cell_type": "code",
   "execution_count": 14,
   "metadata": {},
   "outputs": [],
   "source": [
    "def cutoff(df : pd.DataFrame, column):\n",
    "    filteredArray = []\n",
    "    dolni_kvartil = df[column].quantile(0.25)  # Lower quartile (Q1)\n",
    "    horni_kvartil = df[column].quantile(0.75)  # Upper quartile (Q3)\n",
    "    # Interquartile range (IQR)\n",
    "    IQR = horni_kvartil - dolni_kvartil\n",
    "\n",
    "    # Lower and upper bounds\n",
    "    dolni_mez = dolni_kvartil - 1.5 * IQR\n",
    "    horni_mez = horni_kvartil + 1.5 * IQR\n",
    "    for row in df.iterrows():\n",
    "        if row[1][column] >= dolni_mez and row[1][column] <= horni_mez:\n",
    "            filteredArray.append(row[1][column])\n",
    "        else:\n",
    "            print(f\"Index: {row[0]}\")\n",
    "            filteredArray.append(None)\n",
    "    return filteredArray"
   ]
  },
  {
   "cell_type": "code",
   "execution_count": 15,
   "metadata": {},
   "outputs": [],
   "source": [
    "def convertToChange(df : pd.DataFrame):\n",
    "    nvidiaChange = []\n",
    "    amdChange = []\n",
    "    columnsOld = [\"Nvidia RTX 3070 Ti average FPS release (FPS)\", \"Nvidia RTX 3070 Ti average FPS patched (FPS)\", \"AMD Radeon RX 7700 XT average FPS release (FPS)\", \"AMD Radeon RX 7700 XT average FPS patched (FPS)\"]\n",
    "    columnsNew = [\"Nvidia RTX 3070 Ti FPS Change\", \"AMD Radeon RX 7700 XT FPS Change\"]\n",
    "    for row in df.iterrows():\n",
    "        if row[1][\"Nvidia RTX 3070 Ti average FPS release (FPS)\"] is not None: # Value isnt NaN\n",
    "            nvidiaChange.append(row[1][\"Nvidia RTX 3070 Ti average FPS patched (FPS)\"] - row[1][\"Nvidia RTX 3070 Ti average FPS release (FPS)\"])\n",
    "        amdChange.append(row[1][\"AMD Radeon RX 7700 XT average FPS patched (FPS)\"] - row[1][\"AMD Radeon RX 7700 XT average FPS release (FPS)\"])\n",
    "    tmp = {\n",
    "        \"Nvidia change\": nvidiaChange,\n",
    "        \"Amd change\": amdChange\n",
    "    }\n",
    "    return tmp"
   ]
  },
  {
   "cell_type": "code",
   "execution_count": 16,
   "metadata": {},
   "outputs": [],
   "source": [
    "dfChange = pd.DataFrame(convertToChange(df))"
   ]
  },
  {
   "cell_type": "code",
   "execution_count": 17,
   "metadata": {},
   "outputs": [
    {
     "data": {
      "text/html": [
       "<div>\n",
       "<style scoped>\n",
       "    .dataframe tbody tr th:only-of-type {\n",
       "        vertical-align: middle;\n",
       "    }\n",
       "\n",
       "    .dataframe tbody tr th {\n",
       "        vertical-align: top;\n",
       "    }\n",
       "\n",
       "    .dataframe thead th {\n",
       "        text-align: right;\n",
       "    }\n",
       "</style>\n",
       "<table border=\"1\" class=\"dataframe\">\n",
       "  <thead>\n",
       "    <tr style=\"text-align: right;\">\n",
       "      <th></th>\n",
       "      <th>Nvidia change</th>\n",
       "      <th>Amd change</th>\n",
       "    </tr>\n",
       "  </thead>\n",
       "  <tbody>\n",
       "    <tr>\n",
       "      <th>0</th>\n",
       "      <td>4.400000</td>\n",
       "      <td>4.3</td>\n",
       "    </tr>\n",
       "    <tr>\n",
       "      <th>1</th>\n",
       "      <td>3.500000</td>\n",
       "      <td>5.3</td>\n",
       "    </tr>\n",
       "    <tr>\n",
       "      <th>2</th>\n",
       "      <td>4.800000</td>\n",
       "      <td>5.1</td>\n",
       "    </tr>\n",
       "    <tr>\n",
       "      <th>3</th>\n",
       "      <td>4.200000</td>\n",
       "      <td>5.2</td>\n",
       "    </tr>\n",
       "    <tr>\n",
       "      <th>4</th>\n",
       "      <td>4.300000</td>\n",
       "      <td>5.1</td>\n",
       "    </tr>\n",
       "    <tr>\n",
       "      <th>...</th>\n",
       "      <td>...</td>\n",
       "      <td>...</td>\n",
       "    </tr>\n",
       "    <tr>\n",
       "      <th>74</th>\n",
       "      <td>4.401429</td>\n",
       "      <td>5.2</td>\n",
       "    </tr>\n",
       "    <tr>\n",
       "      <th>75</th>\n",
       "      <td>4.401429</td>\n",
       "      <td>5.3</td>\n",
       "    </tr>\n",
       "    <tr>\n",
       "      <th>76</th>\n",
       "      <td>4.401429</td>\n",
       "      <td>5.1</td>\n",
       "    </tr>\n",
       "    <tr>\n",
       "      <th>77</th>\n",
       "      <td>4.401429</td>\n",
       "      <td>5.5</td>\n",
       "    </tr>\n",
       "    <tr>\n",
       "      <th>78</th>\n",
       "      <td>4.401429</td>\n",
       "      <td>5.3</td>\n",
       "    </tr>\n",
       "  </tbody>\n",
       "</table>\n",
       "<p>79 rows × 2 columns</p>\n",
       "</div>"
      ],
      "text/plain": [
       "    Nvidia change  Amd change\n",
       "0        4.400000         4.3\n",
       "1        3.500000         5.3\n",
       "2        4.800000         5.1\n",
       "3        4.200000         5.2\n",
       "4        4.300000         5.1\n",
       "..            ...         ...\n",
       "74       4.401429         5.2\n",
       "75       4.401429         5.3\n",
       "76       4.401429         5.1\n",
       "77       4.401429         5.5\n",
       "78       4.401429         5.3\n",
       "\n",
       "[79 rows x 2 columns]"
      ]
     },
     "execution_count": 17,
     "metadata": {},
     "output_type": "execute_result"
    }
   ],
   "source": [
    "dfChange"
   ]
  },
  {
   "cell_type": "code",
   "execution_count": 18,
   "metadata": {},
   "outputs": [
    {
     "data": {
      "text/plain": [
       "{'Rozsah souboru': 10.800000000000011,\n",
       " 'Minimum': 3.5,\n",
       " 'Dolní kvartil (Q1)': 3.950000000000003,\n",
       " 'Median': 4.3999999999999915,\n",
       " 'Prumer': 4.401428571428574,\n",
       " 'Horní kvartil (Q3)': 4.600000000000001,\n",
       " 'Maximum': 14.300000000000011,\n",
       " 'Smerodatná odchylka': 1.194484424466491,\n",
       " 'Variacni koeficient (%)': 27.138562061880663,\n",
       " 'Sikmost': 7.438825210312081,\n",
       " 'Spicatost': 62.21477959873635,\n",
       " 'Dolní mez': 2.975000000000005,\n",
       " 'Horní mez': 5.574999999999999}"
      ]
     },
     "execution_count": 18,
     "metadata": {},
     "output_type": "execute_result"
    }
   ],
   "source": [
    "nvidiaStats = describeColumn(dfChange, \"Nvidia change\")\n",
    "nvidiaStats"
   ]
  },
  {
   "cell_type": "code",
   "execution_count": 19,
   "metadata": {},
   "outputs": [
    {
     "data": {
      "text/plain": [
       "{'Rozsah souboru': 11.700000000000017,\n",
       " 'Minimum': -6.1000000000000085,\n",
       " 'Dolní kvartil (Q1)': 4.450000000000003,\n",
       " 'Median': 4.900000000000006,\n",
       " 'Prumer': 4.711392405063291,\n",
       " 'Horní kvartil (Q3)': 5.200000000000003,\n",
       " 'Maximum': 5.6000000000000085,\n",
       " 'Smerodatná odchylka': 1.3060006814475937,\n",
       " 'Variacni koeficient (%)': 27.72005745146693,\n",
       " 'Sikmost': -7.4281230704684775,\n",
       " 'Spicatost': 61.93507080484465,\n",
       " 'Dolní mez': 3.325000000000003,\n",
       " 'Horní mez': 6.325000000000003}"
      ]
     },
     "execution_count": 19,
     "metadata": {},
     "output_type": "execute_result"
    }
   ],
   "source": [
    "amdStats = describeColumn(dfChange, \"Amd change\")\n",
    "amdStats"
   ]
  },
  {
   "cell_type": "code",
   "execution_count": 20,
   "metadata": {},
   "outputs": [
    {
     "data": {
      "image/png": "[encoded data removed]",
      "text/plain": [
       "<Figure size 640x480 with 1 Axes>"
      ]
     },
     "metadata": {},
     "output_type": "display_data"
    }
   ],
   "source": [
    "sns.boxplot(dfChange)\n",
    "plt.ylabel(\"FPS\")\n",
    "plt.savefig(\"change.png\", bbox_inches=\"tight\")\n",
    "plt.show()"
   ]
  },
  {
   "cell_type": "code",
   "execution_count": 21,
   "metadata": {},
   "outputs": [
    {
     "name": "stdout",
     "output_type": "stream",
     "text": [
      "Index: 9\n",
      "Index: 11\n"
     ]
    }
   ],
   "source": [
    "nvidiaFiltered = cutoff(dfChange, \"Nvidia change\")\n",
    "amdFiltered = cutoff(dfChange, \"Amd change\")\n",
    "filteredDict = {\n",
    "    \"Nvidia change filtered\": nvidiaFiltered,\n",
    "    \"Amd change filtered\": amdFiltered\n",
    "}\n",
    "filteredDf = pd.DataFrame(filteredDict)"
   ]
  },
  {
   "cell_type": "code",
   "execution_count": 22,
   "metadata": {},
   "outputs": [
    {
     "data": {
      "text/html": [
       "<div>\n",
       "<style scoped>\n",
       "    .dataframe tbody tr th:only-of-type {\n",
       "        vertical-align: middle;\n",
       "    }\n",
       "\n",
       "    .dataframe tbody tr th {\n",
       "        vertical-align: top;\n",
       "    }\n",
       "\n",
       "    .dataframe thead th {\n",
       "        text-align: right;\n",
       "    }\n",
       "</style>\n",
       "<table border=\"1\" class=\"dataframe\">\n",
       "  <thead>\n",
       "    <tr style=\"text-align: right;\">\n",
       "      <th></th>\n",
       "      <th>Nvidia change filtered</th>\n",
       "      <th>Amd change filtered</th>\n",
       "    </tr>\n",
       "  </thead>\n",
       "  <tbody>\n",
       "    <tr>\n",
       "      <th>0</th>\n",
       "      <td>4.400000</td>\n",
       "      <td>4.3</td>\n",
       "    </tr>\n",
       "    <tr>\n",
       "      <th>1</th>\n",
       "      <td>3.500000</td>\n",
       "      <td>5.3</td>\n",
       "    </tr>\n",
       "    <tr>\n",
       "      <th>2</th>\n",
       "      <td>4.800000</td>\n",
       "      <td>5.1</td>\n",
       "    </tr>\n",
       "    <tr>\n",
       "      <th>3</th>\n",
       "      <td>4.200000</td>\n",
       "      <td>5.2</td>\n",
       "    </tr>\n",
       "    <tr>\n",
       "      <th>4</th>\n",
       "      <td>4.300000</td>\n",
       "      <td>5.1</td>\n",
       "    </tr>\n",
       "    <tr>\n",
       "      <th>...</th>\n",
       "      <td>...</td>\n",
       "      <td>...</td>\n",
       "    </tr>\n",
       "    <tr>\n",
       "      <th>74</th>\n",
       "      <td>4.401429</td>\n",
       "      <td>5.2</td>\n",
       "    </tr>\n",
       "    <tr>\n",
       "      <th>75</th>\n",
       "      <td>4.401429</td>\n",
       "      <td>5.3</td>\n",
       "    </tr>\n",
       "    <tr>\n",
       "      <th>76</th>\n",
       "      <td>4.401429</td>\n",
       "      <td>5.1</td>\n",
       "    </tr>\n",
       "    <tr>\n",
       "      <th>77</th>\n",
       "      <td>4.401429</td>\n",
       "      <td>5.5</td>\n",
       "    </tr>\n",
       "    <tr>\n",
       "      <th>78</th>\n",
       "      <td>4.401429</td>\n",
       "      <td>5.3</td>\n",
       "    </tr>\n",
       "  </tbody>\n",
       "</table>\n",
       "<p>79 rows × 2 columns</p>\n",
       "</div>"
      ],
      "text/plain": [
       "    Nvidia change filtered  Amd change filtered\n",
       "0                 4.400000                  4.3\n",
       "1                 3.500000                  5.3\n",
       "2                 4.800000                  5.1\n",
       "3                 4.200000                  5.2\n",
       "4                 4.300000                  5.1\n",
       "..                     ...                  ...\n",
       "74                4.401429                  5.2\n",
       "75                4.401429                  5.3\n",
       "76                4.401429                  5.1\n",
       "77                4.401429                  5.5\n",
       "78                4.401429                  5.3\n",
       "\n",
       "[79 rows x 2 columns]"
      ]
     },
     "execution_count": 22,
     "metadata": {},
     "output_type": "execute_result"
    }
   ],
   "source": [
    "filteredDf"
   ]
  },
  {
   "cell_type": "code",
   "execution_count": 23,
   "metadata": {},
   "outputs": [
    {
     "data": {
      "text/plain": [
       "Nvidia change filtered    1\n",
       "Amd change filtered       1\n",
       "dtype: int64"
      ]
     },
     "execution_count": 23,
     "metadata": {},
     "output_type": "execute_result"
    }
   ],
   "source": [
    "filteredDf.isna().sum()"
   ]
  },
  {
   "cell_type": "code",
   "execution_count": 24,
   "metadata": {},
   "outputs": [
    {
     "data": {
      "text/plain": [
       "{'Rozsah souboru': 1.4000000000000057,\n",
       " 'Minimum': 3.5,\n",
       " 'Dolní kvartil (Q1)': 3.9250000000000043,\n",
       " 'Median': 4.3999999999999915,\n",
       " 'Prumer': 4.274523809523812,\n",
       " 'Horní kvartil (Q3)': 4.599999999999994,\n",
       " 'Maximum': 4.900000000000006,\n",
       " 'Smerodatná odchylka': 0.39562485454315405,\n",
       " 'Variacni koeficient (%)': 9.255413519084533,\n",
       " 'Sikmost': -0.2783599874349912,\n",
       " 'Spicatost': -0.9941936033251957,\n",
       " 'Dolní mez': 2.912500000000019,\n",
       " 'Horní mez': 5.612499999999979}"
      ]
     },
     "execution_count": 24,
     "metadata": {},
     "output_type": "execute_result"
    }
   ],
   "source": [
    "nvidiaStats = describeColumn(filteredDf, \"Nvidia change filtered\")\n",
    "nvidiaStats"
   ]
  },
  {
   "cell_type": "code",
   "execution_count": 25,
   "metadata": {},
   "outputs": [
    {
     "data": {
      "text/plain": [
       "{'Rozsah souboru': 1.6000000000000085,\n",
       " 'Minimum': 4.0,\n",
       " 'Dolní kvartil (Q1)': 4.5,\n",
       " 'Median': 4.900000000000006,\n",
       " 'Prumer': 4.8500000000000005,\n",
       " 'Horní kvartil (Q3)': 5.200000000000003,\n",
       " 'Maximum': 5.6000000000000085,\n",
       " 'Smerodatná odchylka': 0.43626216352633035,\n",
       " 'Variacni koeficient (%)': 8.995096155182068,\n",
       " 'Sikmost': -0.09005555355352739,\n",
       " 'Spicatost': -1.1905175299738648,\n",
       " 'Dolní mez': 3.4499999999999957,\n",
       " 'Horní mez': 6.250000000000007}"
      ]
     },
     "execution_count": 25,
     "metadata": {},
     "output_type": "execute_result"
    }
   ],
   "source": [
    "amdStats = describeColumn(filteredDf, \"Amd change filtered\")\n",
    "amdStats"
   ]
  },
  {
   "cell_type": "code",
   "execution_count": 26,
   "metadata": {},
   "outputs": [
    {
     "data": {
      "image/png": "[encoded data removed]",
      "text/plain": [
       "<Figure size 640x480 with 1 Axes>"
      ]
     },
     "metadata": {},
     "output_type": "display_data"
    }
   ],
   "source": [
    "sns.boxplot(filteredDf)\n",
    "plt.ylabel(\"FPS\")\n",
    "plt.savefig(\"filteredChange.png\", bbox_inches=\"tight\")\n",
    "plt.show()"
   ]
  },
  {
   "cell_type": "code",
   "execution_count": 27,
   "metadata": {},
   "outputs": [
    {
     "data": {
      "image/png": "[encoded data removed]",
      "text/plain": [
       "<Figure size 640x480 with 2 Axes>"
      ]
     },
     "metadata": {},
     "output_type": "display_data"
    }
   ],
   "source": [
    "filteredDf.hist(bins=10)\n",
    "plt.ylabel(\"FPS\")\n",
    "plt.savefig(\"histFiltered.png\")\n",
    "plt.show()"
   ]
  },
  {
   "cell_type": "code",
   "execution_count": 28,
   "metadata": {},
   "outputs": [
    {
     "data": {
      "image/png": "[encoded data removed]",
      "text/plain": [
       "<Figure size 640x480 with 1 Axes>"
      ]
     },
     "metadata": {},
     "output_type": "display_data"
    }
   ],
   "source": [
    "sm.qqplot(filteredDf[\"Nvidia change filtered\"], line=\"q\")\n",
    "plt.savefig(\"qqNvidia.png\")\n",
    "plt.show()"
   ]
  },
  {
   "cell_type": "code",
   "execution_count": 29,
   "metadata": {},
   "outputs": [
    {
     "data": {
      "image/png": "[encoded data removed]",
      "text/plain": [
       "<Figure size 640x480 with 1 Axes>"
      ]
     },
     "metadata": {},
     "output_type": "display_data"
    }
   ],
   "source": [
    "sm.qqplot(filteredDf[\"Amd change filtered\"], line=\"q\")\n",
    "plt.savefig(\"qqAmd.png\")\n",
    "plt.show()"
   ]
  },
  {
   "cell_type": "code",
   "execution_count": 30,
   "metadata": {},
   "outputs": [],
   "source": [
    "def sigma3Rule(df, column):\n",
    "    prumer = df[column].mean()  # Mean\n",
    "    smerodatna_odchylka = df[column].std()  # Standard deviation\n",
    "    low = prumer - 2 * smerodatna_odchylka\n",
    "    up = prumer + 2 * smerodatna_odchylka\n",
    "    return (low,up)"
   ]
  },
  {
   "cell_type": "code",
   "execution_count": 31,
   "metadata": {},
   "outputs": [
    {
     "data": {
      "text/plain": [
       "(3.9774756729473397, 5.722524327052661)"
      ]
     },
     "execution_count": 31,
     "metadata": {},
     "output_type": "execute_result"
    }
   ],
   "source": [
    "sigma3Rule(filteredDf, \"Amd change filtered\")"
   ]
  },
  {
   "cell_type": "code",
   "execution_count": 32,
   "metadata": {},
   "outputs": [],
   "source": [
    "def chebyshevRule(df, column, k=2):\n",
    "    prumer = df[column].mean()  # Mean\n",
    "    smerodatna_odchylka = df[column].std()  # Standard deviation\n",
    "    low = prumer - k * smerodatna_odchylka\n",
    "    up = prumer + k * smerodatna_odchylka\n",
    "    return (low,up)"
   ]
  },
  {
   "cell_type": "code",
   "execution_count": 33,
   "metadata": {},
   "outputs": [
    {
     "data": {
      "text/plain": [
       "(3.483274100437504, 5.06577351861012)"
      ]
     },
     "execution_count": 33,
     "metadata": {},
     "output_type": "execute_result"
    }
   ],
   "source": [
    "chebyshevRule(filteredDf, \"Nvidia change filtered\")"
   ]
  },
  {
   "cell_type": "code",
   "execution_count": 34,
   "metadata": {},
   "outputs": [
    {
     "data": {
      "text/plain": [
       "(2.932, 5.343999999999999)"
      ]
     },
     "execution_count": 34,
     "metadata": {},
     "output_type": "execute_result"
    }
   ],
   "source": [
    "(4.138 - 2*0.603, 4.138 + 2*0.603)"
   ]
  },
  {
   "cell_type": "markdown",
   "metadata": {},
   "source": [
    "# Ukol 2"
   ]
  },
  {
   "cell_type": "code",
   "execution_count": 35,
   "metadata": {},
   "outputs": [
    {
     "data": {
      "text/plain": [
       "ShapiroResult(statistic=nan, pvalue=nan)"
      ]
     },
     "execution_count": 35,
     "metadata": {},
     "output_type": "execute_result"
    }
   ],
   "source": [
    "import scipy\n",
    "import scipy.stats\n",
    "\n",
    "scipy.stats.shapiro(filteredDf[\"Nvidia change filtered\"])"
   ]
  },
  {
   "cell_type": "code",
   "execution_count": 45,
   "metadata": {},
   "outputs": [
    {
     "data": {
      "text/plain": [
       "Nvidia change filtered\n",
       "False    78\n",
       "True      1\n",
       "Name: count, dtype: int64"
      ]
     },
     "execution_count": 45,
     "metadata": {},
     "output_type": "execute_result"
    }
   ],
   "source": [
    "filteredDf[\"Nvidia change filtered\"].isna().value_counts()"
   ]
  },
  {
   "cell_type": "code",
   "execution_count": 57,
   "metadata": {},
   "outputs": [
    {
     "data": {
      "text/html": [
       "<div>\n",
       "<style scoped>\n",
       "    .dataframe tbody tr th:only-of-type {\n",
       "        vertical-align: middle;\n",
       "    }\n",
       "\n",
       "    .dataframe tbody tr th {\n",
       "        vertical-align: top;\n",
       "    }\n",
       "\n",
       "    .dataframe thead th {\n",
       "        text-align: right;\n",
       "    }\n",
       "</style>\n",
       "<table border=\"1\" class=\"dataframe\">\n",
       "  <thead>\n",
       "    <tr style=\"text-align: right;\">\n",
       "      <th></th>\n",
       "      <th>Nvidia change</th>\n",
       "      <th>Amd change</th>\n",
       "    </tr>\n",
       "  </thead>\n",
       "  <tbody>\n",
       "    <tr>\n",
       "      <th>0</th>\n",
       "      <td>4.4</td>\n",
       "      <td>4.3</td>\n",
       "    </tr>\n",
       "    <tr>\n",
       "      <th>1</th>\n",
       "      <td>3.5</td>\n",
       "      <td>5.3</td>\n",
       "    </tr>\n",
       "    <tr>\n",
       "      <th>2</th>\n",
       "      <td>4.8</td>\n",
       "      <td>5.1</td>\n",
       "    </tr>\n",
       "    <tr>\n",
       "      <th>3</th>\n",
       "      <td>4.2</td>\n",
       "      <td>5.2</td>\n",
       "    </tr>\n",
       "    <tr>\n",
       "      <th>4</th>\n",
       "      <td>4.3</td>\n",
       "      <td>5.1</td>\n",
       "    </tr>\n",
       "    <tr>\n",
       "      <th>...</th>\n",
       "      <td>...</td>\n",
       "      <td>...</td>\n",
       "    </tr>\n",
       "    <tr>\n",
       "      <th>74</th>\n",
       "      <td>NaN</td>\n",
       "      <td>5.2</td>\n",
       "    </tr>\n",
       "    <tr>\n",
       "      <th>75</th>\n",
       "      <td>NaN</td>\n",
       "      <td>5.3</td>\n",
       "    </tr>\n",
       "    <tr>\n",
       "      <th>76</th>\n",
       "      <td>NaN</td>\n",
       "      <td>5.1</td>\n",
       "    </tr>\n",
       "    <tr>\n",
       "      <th>77</th>\n",
       "      <td>NaN</td>\n",
       "      <td>5.5</td>\n",
       "    </tr>\n",
       "    <tr>\n",
       "      <th>78</th>\n",
       "      <td>NaN</td>\n",
       "      <td>5.3</td>\n",
       "    </tr>\n",
       "  </tbody>\n",
       "</table>\n",
       "<p>79 rows × 2 columns</p>\n",
       "</div>"
      ],
      "text/plain": [
       "    Nvidia change  Amd change\n",
       "0             4.4         4.3\n",
       "1             3.5         5.3\n",
       "2             4.8         5.1\n",
       "3             4.2         5.2\n",
       "4             4.3         5.1\n",
       "..            ...         ...\n",
       "74            NaN         5.2\n",
       "75            NaN         5.3\n",
       "76            NaN         5.1\n",
       "77            NaN         5.5\n",
       "78            NaN         5.3\n",
       "\n",
       "[79 rows x 2 columns]"
      ]
     },
     "execution_count": 57,
     "metadata": {},
     "output_type": "execute_result"
    }
   ],
   "source": [
    "df = pd.read_csv(\"ukol_108.csv\", index_col='id')\n",
    "dfChange = pd.DataFrame(convertToChange(df))\n",
    "dfChange"
   ]
  },
  {
   "cell_type": "code",
   "execution_count": 59,
   "metadata": {},
   "outputs": [
    {
     "name": "stdout",
     "output_type": "stream",
     "text": [
      "Index: 9\n",
      "Index: 70\n",
      "Index: 71\n",
      "Index: 72\n",
      "Index: 73\n",
      "Index: 74\n",
      "Index: 75\n",
      "Index: 76\n",
      "Index: 77\n",
      "Index: 78\n"
     ]
    },
    {
     "data": {
      "text/html": [
       "<div>\n",
       "<style scoped>\n",
       "    .dataframe tbody tr th:only-of-type {\n",
       "        vertical-align: middle;\n",
       "    }\n",
       "\n",
       "    .dataframe tbody tr th {\n",
       "        vertical-align: top;\n",
       "    }\n",
       "\n",
       "    .dataframe thead th {\n",
       "        text-align: right;\n",
       "    }\n",
       "</style>\n",
       "<table border=\"1\" class=\"dataframe\">\n",
       "  <thead>\n",
       "    <tr style=\"text-align: right;\">\n",
       "      <th></th>\n",
       "      <th>Nvidia change filtered</th>\n",
       "    </tr>\n",
       "  </thead>\n",
       "  <tbody>\n",
       "    <tr>\n",
       "      <th>0</th>\n",
       "      <td>4.4</td>\n",
       "    </tr>\n",
       "    <tr>\n",
       "      <th>1</th>\n",
       "      <td>3.5</td>\n",
       "    </tr>\n",
       "    <tr>\n",
       "      <th>2</th>\n",
       "      <td>4.8</td>\n",
       "    </tr>\n",
       "    <tr>\n",
       "      <th>3</th>\n",
       "      <td>4.2</td>\n",
       "    </tr>\n",
       "    <tr>\n",
       "      <th>4</th>\n",
       "      <td>4.3</td>\n",
       "    </tr>\n",
       "    <tr>\n",
       "      <th>...</th>\n",
       "      <td>...</td>\n",
       "    </tr>\n",
       "    <tr>\n",
       "      <th>65</th>\n",
       "      <td>4.7</td>\n",
       "    </tr>\n",
       "    <tr>\n",
       "      <th>66</th>\n",
       "      <td>4.5</td>\n",
       "    </tr>\n",
       "    <tr>\n",
       "      <th>67</th>\n",
       "      <td>4.3</td>\n",
       "    </tr>\n",
       "    <tr>\n",
       "      <th>68</th>\n",
       "      <td>3.7</td>\n",
       "    </tr>\n",
       "    <tr>\n",
       "      <th>69</th>\n",
       "      <td>4.9</td>\n",
       "    </tr>\n",
       "  </tbody>\n",
       "</table>\n",
       "<p>69 rows × 1 columns</p>\n",
       "</div>"
      ],
      "text/plain": [
       "    Nvidia change filtered\n",
       "0                      4.4\n",
       "1                      3.5\n",
       "2                      4.8\n",
       "3                      4.2\n",
       "4                      4.3\n",
       "..                     ...\n",
       "65                     4.7\n",
       "66                     4.5\n",
       "67                     4.3\n",
       "68                     3.7\n",
       "69                     4.9\n",
       "\n",
       "[69 rows x 1 columns]"
      ]
     },
     "execution_count": 59,
     "metadata": {},
     "output_type": "execute_result"
    }
   ],
   "source": [
    "nvidiaChange = cutoff(dfChange, \"Nvidia change\")\n",
    "nvidiaChange = pd.DataFrame(nvidiaChange, columns=[\"Nvidia change filtered\"]).dropna()\n",
    "nvidiaChange"
   ]
  },
  {
   "cell_type": "code",
   "execution_count": 60,
   "metadata": {},
   "outputs": [
    {
     "name": "stdout",
     "output_type": "stream",
     "text": [
      "Index: 11\n"
     ]
    },
    {
     "data": {
      "text/html": [
       "<div>\n",
       "<style scoped>\n",
       "    .dataframe tbody tr th:only-of-type {\n",
       "        vertical-align: middle;\n",
       "    }\n",
       "\n",
       "    .dataframe tbody tr th {\n",
       "        vertical-align: top;\n",
       "    }\n",
       "\n",
       "    .dataframe thead th {\n",
       "        text-align: right;\n",
       "    }\n",
       "</style>\n",
       "<table border=\"1\" class=\"dataframe\">\n",
       "  <thead>\n",
       "    <tr style=\"text-align: right;\">\n",
       "      <th></th>\n",
       "      <th>Amd change filtered</th>\n",
       "    </tr>\n",
       "  </thead>\n",
       "  <tbody>\n",
       "    <tr>\n",
       "      <th>0</th>\n",
       "      <td>4.3</td>\n",
       "    </tr>\n",
       "    <tr>\n",
       "      <th>1</th>\n",
       "      <td>5.3</td>\n",
       "    </tr>\n",
       "    <tr>\n",
       "      <th>2</th>\n",
       "      <td>5.1</td>\n",
       "    </tr>\n",
       "    <tr>\n",
       "      <th>3</th>\n",
       "      <td>5.2</td>\n",
       "    </tr>\n",
       "    <tr>\n",
       "      <th>4</th>\n",
       "      <td>5.1</td>\n",
       "    </tr>\n",
       "    <tr>\n",
       "      <th>...</th>\n",
       "      <td>...</td>\n",
       "    </tr>\n",
       "    <tr>\n",
       "      <th>74</th>\n",
       "      <td>5.2</td>\n",
       "    </tr>\n",
       "    <tr>\n",
       "      <th>75</th>\n",
       "      <td>5.3</td>\n",
       "    </tr>\n",
       "    <tr>\n",
       "      <th>76</th>\n",
       "      <td>5.1</td>\n",
       "    </tr>\n",
       "    <tr>\n",
       "      <th>77</th>\n",
       "      <td>5.5</td>\n",
       "    </tr>\n",
       "    <tr>\n",
       "      <th>78</th>\n",
       "      <td>5.3</td>\n",
       "    </tr>\n",
       "  </tbody>\n",
       "</table>\n",
       "<p>78 rows × 1 columns</p>\n",
       "</div>"
      ],
      "text/plain": [
       "    Amd change filtered\n",
       "0                   4.3\n",
       "1                   5.3\n",
       "2                   5.1\n",
       "3                   5.2\n",
       "4                   5.1\n",
       "..                  ...\n",
       "74                  5.2\n",
       "75                  5.3\n",
       "76                  5.1\n",
       "77                  5.5\n",
       "78                  5.3\n",
       "\n",
       "[78 rows x 1 columns]"
      ]
     },
     "execution_count": 60,
     "metadata": {},
     "output_type": "execute_result"
    }
   ],
   "source": [
    "amdChange = cutoff(dfChange, \"Amd change\")\n",
    "amdChange = pd.DataFrame(amdChange, columns=[\"Amd change filtered\"]).dropna()\n",
    "amdChange"
   ]
  },
  {
   "cell_type": "code",
   "execution_count": 71,
   "metadata": {},
   "outputs": [
    {
     "name": "stdout",
     "output_type": "stream",
     "text": [
      "0.0016735059989128386\n",
      "0.003070213238616377\n"
     ]
    }
   ],
   "source": [
    "amdSTest = scipy.stats.shapiro(nvidiaChange)\n",
    "nvidiaSTest = scipy.stats.shapiro(amdChange)\n",
    "print(amdSTest.pvalue)\n",
    "print(nvidiaSTest.pvalue)"
   ]
  },
  {
   "cell_type": "code",
   "execution_count": 68,
   "metadata": {},
   "outputs": [
    {
     "name": "stdout",
     "output_type": "stream",
     "text": [
      "Test Statistic: [1169.5], P-value: [0.17681227]\n"
     ]
    }
   ],
   "source": [
    "# Median of the data\n",
    "median = np.median(amdChange)\n",
    "\n",
    "# Test symmetry about the median\n",
    "stat, p_value = scipy.stats.wilcoxon(amdChange - median)\n",
    "\n",
    "print(f\"Test Statistic: {stat}, P-value: {p_value}\")"
   ]
  },
  {
   "cell_type": "code",
   "execution_count": 69,
   "metadata": {},
   "outputs": [
    {
     "name": "stdout",
     "output_type": "stream",
     "text": [
      "Test Statistic: [899.], P-value: [0.45507789]\n"
     ]
    }
   ],
   "source": [
    "# Median of the data\n",
    "median = np.median(nvidiaChange)\n",
    "\n",
    "# Test symmetry about the median\n",
    "stat, p_value = scipy.stats.wilcoxon(nvidiaChange - median)\n",
    "\n",
    "print(f\"Test Statistic: {stat}, P-value: {p_value}\")"
   ]
  },
  {
   "cell_type": "code",
   "execution_count": 66,
   "metadata": {},
   "outputs": [
    {
     "data": {
      "text/plain": [
       "array([0.73137948])"
      ]
     },
     "execution_count": 66,
     "metadata": {},
     "output_type": "execute_result"
    }
   ],
   "source": [
    "scipy.stats.skewtest(amdChange).pvalue"
   ]
  },
  {
   "cell_type": "code",
   "execution_count": 70,
   "metadata": {},
   "outputs": [
    {
     "data": {
      "text/plain": [
       "array([0.59118612])"
      ]
     },
     "execution_count": 70,
     "metadata": {},
     "output_type": "execute_result"
    }
   ],
   "source": [
    "scipy.stats.skewtest(nvidiaChange).pvalue"
   ]
  },
  {
   "cell_type": "code",
   "execution_count": 73,
   "metadata": {},
   "outputs": [
    {
     "data": {
      "text/plain": [
       "4.900000000000006"
      ]
     },
     "execution_count": 73,
     "metadata": {},
     "output_type": "execute_result"
    }
   ],
   "source": [
    "median = np.median(amdChange)\n",
    "median"
   ]
  },
  {
   "cell_type": "code",
   "execution_count": null,
   "metadata": {},
   "outputs": [],
   "source": []
  }
 ],
 "metadata": {
  "kernelspec": {
   "display_name": "base",
   "language": "python",
   "name": "python3"
  },
  "language_info": {
   "codemirror_mode": {
    "name": "ipython",
    "version": 3
   },
   "file_extension": ".py",
   "mimetype": "text/x-python",
   "name": "python",
   "nbconvert_exporter": "python",
   "pygments_lexer": "ipython3",
   "version": "3.12.4"
  }
 },
 "nbformat": 4,
 "nbformat_minor": 2
}

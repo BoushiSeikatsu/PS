{
 "cells": [
  {
   "cell_type": "code",
   "execution_count": 1,
   "metadata": {
    "vscode": {
     "languageId": "r"
    }
   },
   "outputs": [
    {
     "name": "stderr",
     "output_type": "stream",
     "text": [
      "Installing package into 'C:/Users/me/AppData/Local/R/win-library/4.4'\n",
      "(as 'lib' is unspecified)\n",
      "\n"
     ]
    },
    {
     "name": "stdout",
     "output_type": "stream",
     "text": [
      "package 'readxl' successfully unpacked and MD5 sums checked\n",
      "\n",
      "The downloaded binary packages are in\n",
      "\tC:\\Users\\me\\AppData\\Local\\Temp\\Rtmpi6spBF\\downloaded_packages\n"
     ]
    },
    {
     "name": "stderr",
     "output_type": "stream",
     "text": [
      "Installing package into 'C:/Users/me/AppData/Local/R/win-library/4.4'\n",
      "(as 'lib' is unspecified)\n",
      "\n"
     ]
    },
    {
     "name": "stdout",
     "output_type": "stream",
     "text": [
      "package 'moments' successfully unpacked and MD5 sums checked\n",
      "\n",
      "The downloaded binary packages are in\n",
      "\tC:\\Users\\me\\AppData\\Local\\Temp\\Rtmpi6spBF\\downloaded_packages\n"
     ]
    },
    {
     "name": "stderr",
     "output_type": "stream",
     "text": [
      "Installing package into 'C:/Users/me/AppData/Local/R/win-library/4.4'\n",
      "(as 'lib' is unspecified)\n",
      "\n"
     ]
    },
    {
     "name": "stdout",
     "output_type": "stream",
     "text": [
      "package 'dplyr' successfully unpacked and MD5 sums checked\n",
      "\n",
      "The downloaded binary packages are in\n",
      "\tC:\\Users\\me\\AppData\\Local\\Temp\\Rtmpi6spBF\\downloaded_packages\n"
     ]
    },
    {
     "name": "stderr",
     "output_type": "stream",
     "text": [
      "Installing package into 'C:/Users/me/AppData/Local/R/win-library/4.4'\n",
      "(as 'lib' is unspecified)\n",
      "\n"
     ]
    },
    {
     "name": "stdout",
     "output_type": "stream",
     "text": [
      "package 'tidyr' successfully unpacked and MD5 sums checked\n",
      "\n",
      "The downloaded binary packages are in\n",
      "\tC:\\Users\\me\\AppData\\Local\\Temp\\Rtmpi6spBF\\downloaded_packages\n"
     ]
    },
    {
     "name": "stderr",
     "output_type": "stream",
     "text": [
      "Installing package into 'C:/Users/me/AppData/Local/R/win-library/4.4'\n",
      "(as 'lib' is unspecified)\n",
      "\n"
     ]
    },
    {
     "name": "stdout",
     "output_type": "stream",
     "text": [
      "package 'ggplot2' successfully unpacked and MD5 sums checked\n",
      "\n",
      "The downloaded binary packages are in\n",
      "\tC:\\Users\\me\\AppData\\Local\\Temp\\Rtmpi6spBF\\downloaded_packages\n"
     ]
    },
    {
     "name": "stderr",
     "output_type": "stream",
     "text": [
      "Installing package into 'C:/Users/me/AppData/Local/R/win-library/4.4'\n",
      "(as 'lib' is unspecified)\n",
      "\n"
     ]
    },
    {
     "name": "stdout",
     "output_type": "stream",
     "text": [
      "package 'ggpubr' successfully unpacked and MD5 sums checked\n",
      "\n",
      "The downloaded binary packages are in\n",
      "\tC:\\Users\\me\\AppData\\Local\\Temp\\Rtmpi6spBF\\downloaded_packages\n"
     ]
    },
    {
     "name": "stderr",
     "output_type": "stream",
     "text": [
      "Installing package into 'C:/Users/me/AppData/Local/R/win-library/4.4'\n",
      "(as 'lib' is unspecified)\n",
      "\n"
     ]
    },
    {
     "name": "stdout",
     "output_type": "stream",
     "text": [
      "package 'rstatix' successfully unpacked and MD5 sums checked\n",
      "\n",
      "The downloaded binary packages are in\n",
      "\tC:\\Users\\me\\AppData\\Local\\Temp\\Rtmpi6spBF\\downloaded_packages\n"
     ]
    },
    {
     "name": "stderr",
     "output_type": "stream",
     "text": [
      "Installing package into 'C:/Users/me/AppData/Local/R/win-library/4.4'\n",
      "(as 'lib' is unspecified)\n",
      "\n"
     ]
    },
    {
     "name": "stdout",
     "output_type": "stream",
     "text": [
      "package 'forcats' successfully unpacked and MD5 sums checked\n",
      "\n",
      "The downloaded binary packages are in\n",
      "\tC:\\Users\\me\\AppData\\Local\\Temp\\Rtmpi6spBF\\downloaded_packages\n"
     ]
    },
    {
     "name": "stderr",
     "output_type": "stream",
     "text": [
      "Installing package into 'C:/Users/me/AppData/Local/R/win-library/4.4'\n",
      "(as 'lib' is unspecified)\n",
      "\n"
     ]
    },
    {
     "name": "stdout",
     "output_type": "stream",
     "text": [
      "package 'pacman' successfully unpacked and MD5 sums checked\n",
      "\n",
      "The downloaded binary packages are in\n",
      "\tC:\\Users\\me\\AppData\\Local\\Temp\\Rtmpi6spBF\\downloaded_packages\n"
     ]
    },
    {
     "name": "stderr",
     "output_type": "stream",
     "text": [
      "Installing package into 'C:/Users/me/AppData/Local/R/win-library/4.4'\n",
      "(as 'lib' is unspecified)\n",
      "\n"
     ]
    },
    {
     "name": "stdout",
     "output_type": "stream",
     "text": [
      "package 'lawstat' successfully unpacked and MD5 sums checked\n",
      "\n",
      "The downloaded binary packages are in\n",
      "\tC:\\Users\\me\\AppData\\Local\\Temp\\Rtmpi6spBF\\downloaded_packages\n"
     ]
    },
    {
     "name": "stderr",
     "output_type": "stream",
     "text": [
      "Installing package into 'C:/Users/me/AppData/Local/R/win-library/4.4'\n",
      "(as 'lib' is unspecified)\n",
      "\n"
     ]
    },
    {
     "name": "stdout",
     "output_type": "stream",
     "text": [
      "package 'FSA' successfully unpacked and MD5 sums checked\n",
      "\n",
      "The downloaded binary packages are in\n",
      "\tC:\\Users\\me\\AppData\\Local\\Temp\\Rtmpi6spBF\\downloaded_packages\n"
     ]
    },
    {
     "name": "stderr",
     "output_type": "stream",
     "text": [
      "Warning message:\n",
      "\"package 'readxl' was built under R version 4.4.2\"\n",
      "Warning message:\n",
      "\"package 'dplyr' was built under R version 4.4.2\"\n",
      "\n",
      "Attaching package: 'dplyr'\n",
      "\n",
      "\n",
      "The following objects are masked from 'package:stats':\n",
      "\n",
      "    filter, lag\n",
      "\n",
      "\n",
      "The following objects are masked from 'package:base':\n",
      "\n",
      "    intersect, setdiff, setequal, union\n",
      "\n",
      "\n",
      "Warning message:\n",
      "\"package 'tidyr' was built under R version 4.4.2\"\n",
      "Warning message:\n",
      "\"package 'ggplot2' was built under R version 4.4.2\"\n",
      "Warning message:\n",
      "\"package 'ggpubr' was built under R version 4.4.2\"\n",
      "Warning message:\n",
      "\"package 'rstatix' was built under R version 4.4.2\"\n",
      "\n",
      "Attaching package: 'rstatix'\n",
      "\n",
      "\n",
      "The following object is masked from 'package:stats':\n",
      "\n",
      "    filter\n",
      "\n",
      "\n",
      "Warning message:\n",
      "\"package 'forcats' was built under R version 4.4.2\"\n",
      "Warning message:\n",
      "\"package 'pacman' was built under R version 4.4.2\"\n",
      "Warning message:\n",
      "\"package 'lawstat' was built under R version 4.4.2\"\n",
      "Warning message:\n",
      "\"package 'FSA' was built under R version 4.4.2\"\n",
      "Registered S3 methods overwritten by 'FSA':\n",
      "  method       from\n",
      "  confint.boot car \n",
      "  hist.boot    car \n",
      "\n",
      "## FSA v0.9.5. See citation('FSA') if used in publication.\n",
      "## Run fishR() for related website and fishR('IFAR') for related book.\n",
      "\n"
     ]
    }
   ],
   "source": [
    "install.packages(\"readxl\")  # načtení xlsx souborů\n",
    "install.packages(\"moments\") # pro výpočet šikmosti a špičatosti\n",
    "install.packages(\"dplyr\")   # pro efektivní práci s datovým souborem\n",
    "install.packages(\"tidyr\")   # pro efektivní práci s datovým souborem (pivot_longer)\n",
    "install.packages(\"ggplot2\") # pro hezčí grafiku\n",
    "install.packages(\"ggpubr\")  # pro kombinování grafů z ggplot2\n",
    "install.packages(\"rstatix\") # pro identifikaci odlehlých pozorování\n",
    "install.packages(\"forcats\") # obsahuje funkci fct_infreq(), která seřadí úrovně faktorů podle četností\n",
    "install.packages(\"pacman\")  # Obsahuje příkaz p_load(), který zkontroluje\n",
    "install.packages(\"lawstat\") # Pro test symetrie\n",
    "install.packages(\"FSA\")     # Dunn test\n",
    "library(readxl)\n",
    "library(moments)\n",
    "library(dplyr)\n",
    "library(tidyr)\n",
    "library(ggplot2)\n",
    "library(ggpubr)\n",
    "library(rstatix)\n",
    "library(forcats)\n",
    "library(pacman)\n",
    "library(lawstat)\n",
    "library(FSA)"
   ]
  },
  {
   "cell_type": "code",
   "execution_count": 2,
   "metadata": {
    "vscode": {
     "languageId": "r"
    }
   },
   "outputs": [],
   "source": [
    "options(scipen = 100, # číselné hodnoty zobrazovat jako desetinná čísla\n",
    "        OutDec = \",\", # oddělovač desetinných míst v tabulkách a grafech\n",
    "        signif = 8, # počet platných cifer ve výstupech klasického Rka\n",
    "        pillar.sigfig = 8) # počet platných cifer ve výstupech balíčku dplyr"
   ]
  },
  {
   "cell_type": "code",
   "execution_count": 3,
   "metadata": {
    "vscode": {
     "languageId": "r"
    }
   },
   "outputs": [
    {
     "data": {
      "text/html": [
       "<table class=\"dataframe\">\n",
       "<caption>A data.frame: 6 × 4</caption>\n",
       "<thead>\n",
       "\t<tr><th></th><th scope=col>N3070_REL</th><th scope=col>N3070_PAT</th><th scope=col>A7700_REL</th><th scope=col>A7700_PAT</th></tr>\n",
       "\t<tr><th></th><th scope=col>&lt;dbl&gt;</th><th scope=col>&lt;dbl&gt;</th><th scope=col>&lt;dbl&gt;</th><th scope=col>&lt;dbl&gt;</th></tr>\n",
       "</thead>\n",
       "<tbody>\n",
       "\t<tr><th scope=row>1</th><td>84,0</td><td>89,3</td><td>82,6</td><td>87,2</td></tr>\n",
       "\t<tr><th scope=row>2</th><td>84,5</td><td>91,0</td><td>86,1</td><td>90,8</td></tr>\n",
       "\t<tr><th scope=row>3</th><td>83,6</td><td>89,3</td><td>84,1</td><td>88,2</td></tr>\n",
       "\t<tr><th scope=row>4</th><td>82,5</td><td>86,6</td><td>83,6</td><td>88,7</td></tr>\n",
       "\t<tr><th scope=row>5</th><td>82,9</td><td>87,5</td><td>85,6</td><td>89,3</td></tr>\n",
       "\t<tr><th scope=row>6</th><td>83,0</td><td>86,7</td><td>85,9</td><td>91,9</td></tr>\n",
       "</tbody>\n",
       "</table>\n"
      ],
      "text/latex": [
       "A data.frame: 6 × 4\n",
       "\\begin{tabular}{r|llll}\n",
       "  & N3070\\_REL & N3070\\_PAT & A7700\\_REL & A7700\\_PAT\\\\\n",
       "  & <dbl> & <dbl> & <dbl> & <dbl>\\\\\n",
       "\\hline\n",
       "\t1 & 84,0 & 89,3 & 82,6 & 87,2\\\\\n",
       "\t2 & 84,5 & 91,0 & 86,1 & 90,8\\\\\n",
       "\t3 & 83,6 & 89,3 & 84,1 & 88,2\\\\\n",
       "\t4 & 82,5 & 86,6 & 83,6 & 88,7\\\\\n",
       "\t5 & 82,9 & 87,5 & 85,6 & 89,3\\\\\n",
       "\t6 & 83,0 & 86,7 & 85,9 & 91,9\\\\\n",
       "\\end{tabular}\n"
      ],
      "text/markdown": [
       "\n",
       "A data.frame: 6 × 4\n",
       "\n",
       "| <!--/--> | N3070_REL &lt;dbl&gt; | N3070_PAT &lt;dbl&gt; | A7700_REL &lt;dbl&gt; | A7700_PAT &lt;dbl&gt; |\n",
       "|---|---|---|---|---|\n",
       "| 1 | 84,0 | 89,3 | 82,6 | 87,2 |\n",
       "| 2 | 84,5 | 91,0 | 86,1 | 90,8 |\n",
       "| 3 | 83,6 | 89,3 | 84,1 | 88,2 |\n",
       "| 4 | 82,5 | 86,6 | 83,6 | 88,7 |\n",
       "| 5 | 82,9 | 87,5 | 85,6 | 89,3 |\n",
       "| 6 | 83,0 | 86,7 | 85,9 | 91,9 |\n",
       "\n"
      ],
      "text/plain": [
       "  N3070_REL N3070_PAT A7700_REL A7700_PAT\n",
       "1 84,0      89,3      82,6      87,2     \n",
       "2 84,5      91,0      86,1      90,8     \n",
       "3 83,6      89,3      84,1      88,2     \n",
       "4 82,5      86,6      83,6      88,7     \n",
       "5 82,9      87,5      85,6      89,3     \n",
       "6 83,0      86,7      85,9      91,9     "
      ]
     },
     "metadata": {},
     "output_type": "display_data"
    }
   ],
   "source": [
    "data = read_excel(\"data/ukol_180.xlsx\")\n",
    "colnames(data) = c(\n",
    "    \"Id\",\n",
    "    \"N2080_REL\",\"N2080_PAT\",\n",
    "    \"N3070_REL\",\"N3070_PAT\",\n",
    "    \"A6800_REL\",\"A6800_PAT\",\n",
    "    \"A7700_REL\",\"A7700_PAT\"\n",
    ")\n",
    "data = as.data.frame(data)\n",
    "data = data[ ,-c(1, 2, 3, 6, 7)]\n",
    "head(data)"
   ]
  },
  {
   "cell_type": "code",
   "execution_count": 4,
   "metadata": {
    "vscode": {
     "languageId": "r"
    }
   },
   "outputs": [
    {
     "data": {
      "text/html": [
       "<table class=\"dataframe\">\n",
       "<caption>A data.frame: 6 × 4</caption>\n",
       "<thead>\n",
       "\t<tr><th></th><th scope=col>model</th><th scope=col>release</th><th scope=col>patched</th><th scope=col>test_id</th></tr>\n",
       "\t<tr><th></th><th scope=col>&lt;chr&gt;</th><th scope=col>&lt;dbl&gt;</th><th scope=col>&lt;dbl&gt;</th><th scope=col>&lt;int&gt;</th></tr>\n",
       "</thead>\n",
       "<tbody>\n",
       "\t<tr><th scope=row>1</th><td>Nvidia</td><td>84,0</td><td>89,3</td><td>1</td></tr>\n",
       "\t<tr><th scope=row>2</th><td>AMD   </td><td>82,6</td><td>87,2</td><td>1</td></tr>\n",
       "\t<tr><th scope=row>3</th><td>Nvidia</td><td>84,5</td><td>91,0</td><td>2</td></tr>\n",
       "\t<tr><th scope=row>4</th><td>AMD   </td><td>86,1</td><td>90,8</td><td>2</td></tr>\n",
       "\t<tr><th scope=row>5</th><td>Nvidia</td><td>83,6</td><td>89,3</td><td>3</td></tr>\n",
       "\t<tr><th scope=row>6</th><td>AMD   </td><td>84,1</td><td>88,2</td><td>3</td></tr>\n",
       "</tbody>\n",
       "</table>\n"
      ],
      "text/latex": [
       "A data.frame: 6 × 4\n",
       "\\begin{tabular}{r|llll}\n",
       "  & model & release & patched & test\\_id\\\\\n",
       "  & <chr> & <dbl> & <dbl> & <int>\\\\\n",
       "\\hline\n",
       "\t1 & Nvidia & 84,0 & 89,3 & 1\\\\\n",
       "\t2 & AMD    & 82,6 & 87,2 & 1\\\\\n",
       "\t3 & Nvidia & 84,5 & 91,0 & 2\\\\\n",
       "\t4 & AMD    & 86,1 & 90,8 & 2\\\\\n",
       "\t5 & Nvidia & 83,6 & 89,3 & 3\\\\\n",
       "\t6 & AMD    & 84,1 & 88,2 & 3\\\\\n",
       "\\end{tabular}\n"
      ],
      "text/markdown": [
       "\n",
       "A data.frame: 6 × 4\n",
       "\n",
       "| <!--/--> | model &lt;chr&gt; | release &lt;dbl&gt; | patched &lt;dbl&gt; | test_id &lt;int&gt; |\n",
       "|---|---|---|---|---|\n",
       "| 1 | Nvidia | 84,0 | 89,3 | 1 |\n",
       "| 2 | AMD    | 82,6 | 87,2 | 1 |\n",
       "| 3 | Nvidia | 84,5 | 91,0 | 2 |\n",
       "| 4 | AMD    | 86,1 | 90,8 | 2 |\n",
       "| 5 | Nvidia | 83,6 | 89,3 | 3 |\n",
       "| 6 | AMD    | 84,1 | 88,2 | 3 |\n",
       "\n"
      ],
      "text/plain": [
       "  model  release patched test_id\n",
       "1 Nvidia 84,0    89,3    1      \n",
       "2 AMD    82,6    87,2    1      \n",
       "3 Nvidia 84,5    91,0    2      \n",
       "4 AMD    86,1    90,8    2      \n",
       "5 Nvidia 83,6    89,3    3      \n",
       "6 AMD    84,1    88,2    3      "
      ]
     },
     "metadata": {},
     "output_type": "display_data"
    },
    {
     "data": {
      "text/html": [
       "<table class=\"dataframe\">\n",
       "<caption>A data.frame: 6 × 4</caption>\n",
       "<thead>\n",
       "\t<tr><th></th><th scope=col>model</th><th scope=col>release</th><th scope=col>patched</th><th scope=col>test_id</th></tr>\n",
       "\t<tr><th></th><th scope=col>&lt;chr&gt;</th><th scope=col>&lt;dbl&gt;</th><th scope=col>&lt;dbl&gt;</th><th scope=col>&lt;int&gt;</th></tr>\n",
       "</thead>\n",
       "<tbody>\n",
       "\t<tr><th scope=row>128</th><td>AMD   </td><td>84,9</td><td>89,4</td><td>64</td></tr>\n",
       "\t<tr><th scope=row>129</th><td>Nvidia</td><td>83,8</td><td>87,8</td><td>65</td></tr>\n",
       "\t<tr><th scope=row>130</th><td>AMD   </td><td>86,5</td><td>91,2</td><td>65</td></tr>\n",
       "\t<tr><th scope=row>132</th><td>AMD   </td><td>84,4</td><td>89,5</td><td>66</td></tr>\n",
       "\t<tr><th scope=row>134</th><td>AMD   </td><td>83,4</td><td>87,2</td><td>67</td></tr>\n",
       "\t<tr><th scope=row>136</th><td>AMD   </td><td>83,2</td><td>88,5</td><td>68</td></tr>\n",
       "</tbody>\n",
       "</table>\n"
      ],
      "text/latex": [
       "A data.frame: 6 × 4\n",
       "\\begin{tabular}{r|llll}\n",
       "  & model & release & patched & test\\_id\\\\\n",
       "  & <chr> & <dbl> & <dbl> & <int>\\\\\n",
       "\\hline\n",
       "\t128 & AMD    & 84,9 & 89,4 & 64\\\\\n",
       "\t129 & Nvidia & 83,8 & 87,8 & 65\\\\\n",
       "\t130 & AMD    & 86,5 & 91,2 & 65\\\\\n",
       "\t132 & AMD    & 84,4 & 89,5 & 66\\\\\n",
       "\t134 & AMD    & 83,4 & 87,2 & 67\\\\\n",
       "\t136 & AMD    & 83,2 & 88,5 & 68\\\\\n",
       "\\end{tabular}\n"
      ],
      "text/markdown": [
       "\n",
       "A data.frame: 6 × 4\n",
       "\n",
       "| <!--/--> | model &lt;chr&gt; | release &lt;dbl&gt; | patched &lt;dbl&gt; | test_id &lt;int&gt; |\n",
       "|---|---|---|---|---|\n",
       "| 128 | AMD    | 84,9 | 89,4 | 64 |\n",
       "| 129 | Nvidia | 83,8 | 87,8 | 65 |\n",
       "| 130 | AMD    | 86,5 | 91,2 | 65 |\n",
       "| 132 | AMD    | 84,4 | 89,5 | 66 |\n",
       "| 134 | AMD    | 83,4 | 87,2 | 67 |\n",
       "| 136 | AMD    | 83,2 | 88,5 | 68 |\n",
       "\n"
      ],
      "text/plain": [
       "    model  release patched test_id\n",
       "128 AMD    84,9    89,4    64     \n",
       "129 Nvidia 83,8    87,8    65     \n",
       "130 AMD    86,5    91,2    65     \n",
       "132 AMD    84,4    89,5    66     \n",
       "134 AMD    83,4    87,2    67     \n",
       "136 AMD    83,2    88,5    68     "
      ]
     },
     "metadata": {},
     "output_type": "display_data"
    }
   ],
   "source": [
    "data_release = data[,c(1, 3)]\n",
    "colnames(data_release) = c(\"Nvidia\", \"AMD\")\n",
    "data_patched = data[,c(2, 4)]\n",
    "colnames(data_patched) = c(\"Nvidia\", \"AMD\")\n",
    "data_release = data_release %>% \n",
    "  pivot_longer(\n",
    "    cols = Nvidia:AMD,\n",
    "    names_to = \"model\",\n",
    "    values_to = \"release\")\n",
    "data_patched = data_patched %>% \n",
    "  pivot_longer(\n",
    "    cols = Nvidia:AMD,\n",
    "    names_to = \"model\",\n",
    "    values_to = \"patched\")\n",
    "dataS = cbind(data_release, data_patched)\n",
    "dataS = dataS[,-3]\n",
    "dataS$test_id = rep(1:(nrow(data)), each = 2)\n",
    "dataS = na.omit(dataS)\n",
    "head(dataS)\n",
    "tail(dataS)"
   ]
  },
  {
   "cell_type": "code",
   "execution_count": 5,
   "metadata": {
    "vscode": {
     "languageId": "r"
    }
   },
   "outputs": [
    {
     "data": {
      "text/html": [
       "<table class=\"dataframe\">\n",
       "<caption>A data.frame: 6 × 5</caption>\n",
       "<thead>\n",
       "\t<tr><th></th><th scope=col>model</th><th scope=col>release</th><th scope=col>patched</th><th scope=col>test_id</th><th scope=col>increase</th></tr>\n",
       "\t<tr><th></th><th scope=col>&lt;chr&gt;</th><th scope=col>&lt;dbl&gt;</th><th scope=col>&lt;dbl&gt;</th><th scope=col>&lt;int&gt;</th><th scope=col>&lt;dbl&gt;</th></tr>\n",
       "</thead>\n",
       "<tbody>\n",
       "\t<tr><th scope=row>1</th><td>Nvidia</td><td>84,0</td><td>89,3</td><td>1</td><td>5,3</td></tr>\n",
       "\t<tr><th scope=row>2</th><td>AMD   </td><td>82,6</td><td>87,2</td><td>1</td><td>4,6</td></tr>\n",
       "\t<tr><th scope=row>3</th><td>Nvidia</td><td>84,5</td><td>91,0</td><td>2</td><td>6,5</td></tr>\n",
       "\t<tr><th scope=row>4</th><td>AMD   </td><td>86,1</td><td>90,8</td><td>2</td><td>4,7</td></tr>\n",
       "\t<tr><th scope=row>5</th><td>Nvidia</td><td>83,6</td><td>89,3</td><td>3</td><td>5,7</td></tr>\n",
       "\t<tr><th scope=row>6</th><td>AMD   </td><td>84,1</td><td>88,2</td><td>3</td><td>4,1</td></tr>\n",
       "</tbody>\n",
       "</table>\n"
      ],
      "text/latex": [
       "A data.frame: 6 × 5\n",
       "\\begin{tabular}{r|lllll}\n",
       "  & model & release & patched & test\\_id & increase\\\\\n",
       "  & <chr> & <dbl> & <dbl> & <int> & <dbl>\\\\\n",
       "\\hline\n",
       "\t1 & Nvidia & 84,0 & 89,3 & 1 & 5,3\\\\\n",
       "\t2 & AMD    & 82,6 & 87,2 & 1 & 4,6\\\\\n",
       "\t3 & Nvidia & 84,5 & 91,0 & 2 & 6,5\\\\\n",
       "\t4 & AMD    & 86,1 & 90,8 & 2 & 4,7\\\\\n",
       "\t5 & Nvidia & 83,6 & 89,3 & 3 & 5,7\\\\\n",
       "\t6 & AMD    & 84,1 & 88,2 & 3 & 4,1\\\\\n",
       "\\end{tabular}\n"
      ],
      "text/markdown": [
       "\n",
       "A data.frame: 6 × 5\n",
       "\n",
       "| <!--/--> | model &lt;chr&gt; | release &lt;dbl&gt; | patched &lt;dbl&gt; | test_id &lt;int&gt; | increase &lt;dbl&gt; |\n",
       "|---|---|---|---|---|---|\n",
       "| 1 | Nvidia | 84,0 | 89,3 | 1 | 5,3 |\n",
       "| 2 | AMD    | 82,6 | 87,2 | 1 | 4,6 |\n",
       "| 3 | Nvidia | 84,5 | 91,0 | 2 | 6,5 |\n",
       "| 4 | AMD    | 86,1 | 90,8 | 2 | 4,7 |\n",
       "| 5 | Nvidia | 83,6 | 89,3 | 3 | 5,7 |\n",
       "| 6 | AMD    | 84,1 | 88,2 | 3 | 4,1 |\n",
       "\n"
      ],
      "text/plain": [
       "  model  release patched test_id increase\n",
       "1 Nvidia 84,0    89,3    1       5,3     \n",
       "2 AMD    82,6    87,2    1       4,6     \n",
       "3 Nvidia 84,5    91,0    2       6,5     \n",
       "4 AMD    86,1    90,8    2       4,7     \n",
       "5 Nvidia 83,6    89,3    3       5,7     \n",
       "6 AMD    84,1    88,2    3       4,1     "
      ]
     },
     "metadata": {},
     "output_type": "display_data"
    }
   ],
   "source": [
    "dataS$increase = dataS$patched - dataS$release\n",
    "head(dataS)"
   ]
  },
  {
   "cell_type": "code",
   "execution_count": 6,
   "metadata": {
    "vscode": {
     "languageId": "r"
    }
   },
   "outputs": [
    {
     "data": {
      "text/html": [
       "<table class=\"dataframe\">\n",
       "<caption>A matrix: 15 × 2 of type chr</caption>\n",
       "<tbody>\n",
       "\t<tr><th scope=row>model</th><td>AMD     </td><td>Nvidia  </td></tr>\n",
       "\t<tr><th scope=row>rozsah</th><td>68      </td><td>65      </td></tr>\n",
       "\t<tr><th scope=row>minimum</th><td>3,5     </td><td>2,3     </td></tr>\n",
       "\t<tr><th scope=row>Q1</th><td>4,5     </td><td>4,1     </td></tr>\n",
       "\t<tr><th scope=row>prumer</th><td>5,070588</td><td>4,830769</td></tr>\n",
       "\t<tr><th scope=row>median</th><td>4,9     </td><td>4,6     </td></tr>\n",
       "\t<tr><th scope=row>Q3</th><td>5,4     </td><td>5,3     </td></tr>\n",
       "\t<tr><th scope=row>maximum</th><td>14,0    </td><td>13,2    </td></tr>\n",
       "\t<tr><th scope=row>rozptyl</th><td>1,592555</td><td>1,875913</td></tr>\n",
       "\t<tr><th scope=row>smerodatna_odchylka</th><td>1,261965</td><td>1,369640</td></tr>\n",
       "\t<tr><th scope=row>variacni_koeficient</th><td>24,88793</td><td>28,35242</td></tr>\n",
       "\t<tr><th scope=row>sikmost</th><td>5,243677</td><td>3,472060</td></tr>\n",
       "\t<tr><th scope=row>spicatost</th><td>35,14539</td><td>19,64881</td></tr>\n",
       "\t<tr><th scope=row>dolni_mez</th><td>3,15    </td><td>2,30    </td></tr>\n",
       "\t<tr><th scope=row>horni_mez</th><td>6,75    </td><td>7,10    </td></tr>\n",
       "</tbody>\n",
       "</table>\n"
      ],
      "text/latex": [
       "A matrix: 15 × 2 of type chr\n",
       "\\begin{tabular}{r|ll}\n",
       "\tmodel & AMD      & Nvidia  \\\\\n",
       "\trozsah & 68       & 65      \\\\\n",
       "\tminimum & 3,5      & 2,3     \\\\\n",
       "\tQ1 & 4,5      & 4,1     \\\\\n",
       "\tprumer & 5,070588 & 4,830769\\\\\n",
       "\tmedian & 4,9      & 4,6     \\\\\n",
       "\tQ3 & 5,4      & 5,3     \\\\\n",
       "\tmaximum & 14,0     & 13,2    \\\\\n",
       "\trozptyl & 1,592555 & 1,875913\\\\\n",
       "\tsmerodatna\\_odchylka & 1,261965 & 1,369640\\\\\n",
       "\tvariacni\\_koeficient & 24,88793 & 28,35242\\\\\n",
       "\tsikmost & 5,243677 & 3,472060\\\\\n",
       "\tspicatost & 35,14539 & 19,64881\\\\\n",
       "\tdolni\\_mez & 3,15     & 2,30    \\\\\n",
       "\thorni\\_mez & 6,75     & 7,10    \\\\\n",
       "\\end{tabular}\n"
      ],
      "text/markdown": [
       "\n",
       "A matrix: 15 × 2 of type chr\n",
       "\n",
       "| model | AMD      | Nvidia   |\n",
       "| rozsah | 68       | 65       |\n",
       "| minimum | 3,5      | 2,3      |\n",
       "| Q1 | 4,5      | 4,1      |\n",
       "| prumer | 5,070588 | 4,830769 |\n",
       "| median | 4,9      | 4,6      |\n",
       "| Q3 | 5,4      | 5,3      |\n",
       "| maximum | 14,0     | 13,2     |\n",
       "| rozptyl | 1,592555 | 1,875913 |\n",
       "| smerodatna_odchylka | 1,261965 | 1,369640 |\n",
       "| variacni_koeficient | 24,88793 | 28,35242 |\n",
       "| sikmost | 5,243677 | 3,472060 |\n",
       "| spicatost | 35,14539 | 19,64881 |\n",
       "| dolni_mez | 3,15     | 2,30     |\n",
       "| horni_mez | 6,75     | 7,10     |\n",
       "\n"
      ],
      "text/plain": [
       "                    [,1]     [,2]    \n",
       "model               AMD      Nvidia  \n",
       "rozsah              68       65      \n",
       "minimum             3,5      2,3     \n",
       "Q1                  4,5      4,1     \n",
       "prumer              5,070588 4,830769\n",
       "median              4,9      4,6     \n",
       "Q3                  5,4      5,3     \n",
       "maximum             14,0     13,2    \n",
       "rozptyl             1,592555 1,875913\n",
       "smerodatna_odchylka 1,261965 1,369640\n",
       "variacni_koeficient 24,88793 28,35242\n",
       "sikmost             5,243677 3,472060\n",
       "spicatost           35,14539 19,64881\n",
       "dolni_mez           3,15     2,30    \n",
       "horni_mez           6,75     7,10    "
      ]
     },
     "metadata": {},
     "output_type": "display_data"
    }
   ],
   "source": [
    "charakteristiky_dle_modelu = \n",
    "  dataS %>%\n",
    "  group_by(model) %>% \n",
    "  summarise(rozsah = length(na.omit(increase)),\n",
    "            minimum = min(increase, na.rm=T),\n",
    "            Q1 = quantile(increase, 0.25, na.rm=T),\n",
    "            prumer = mean(increase, na.rm=T),\n",
    "            median = median(increase, na.rm=T),\n",
    "            Q3 = quantile(increase, 0.75, na.rm=T),\n",
    "            maximum = max(increase, na.rm=T),\n",
    "            rozptyl = var(increase, na.rm=T),\n",
    "            smerodatna_odchylka = sd(increase,na.rm=T),\n",
    "            variacni_koeficient = (100*(smerodatna_odchylka/prumer)),\n",
    "            sikmost = (moments::skewness(increase, na.rm=T)),\n",
    "            spicatost = (moments::kurtosis(increase, na.rm=T)-3),\n",
    "            dolni_mez = Q1 - 1.5 * (Q3 - Q1),\n",
    "            horni_mez = Q3 + 1.5 * (Q3 - Q1))\n",
    "t(charakteristiky_dle_modelu)"
   ]
  },
  {
   "cell_type": "code",
   "execution_count": 7,
   "metadata": {
    "vscode": {
     "languageId": "r"
    }
   },
   "outputs": [
    {
     "data": {
      "image/png": "[encoded data removed]",
      "text/plain": [
       "plot without title"
      ]
     },
     "metadata": {
      "image/png": {
       "height": 420,
       "width": 420
      }
     },
     "output_type": "display_data"
    }
   ],
   "source": [
    "plot1 = ggplot(dataS, aes(x = fct_reorder(model,increase), y = increase))+\n",
    "  stat_boxplot(geom = \"errorbar\", width = 0.2) +\n",
    "  geom_boxplot()+\n",
    "  labs(x = \"\", y = \"zvýšení výkonu od patche 1.5 (fps)\") +\n",
    "  theme_light()+\n",
    "  stat_summary(geom = \"point\", fun = \"mean\", colour = \"red\", size = 2, shape = 3) +\n",
    "  theme(plot.title = element_text(hjust = 0.5))\n",
    "plot1\n",
    "ggsave(\"plots/1.png\", plot1, width = 5, height = 5)"
   ]
  },
  {
   "cell_type": "code",
   "execution_count": 8,
   "metadata": {
    "vscode": {
     "languageId": "r"
    }
   },
   "outputs": [
    {
     "data": {
      "text/html": [
       "<table class=\"dataframe\">\n",
       "<caption>A data.frame: 2 × 5</caption>\n",
       "<thead>\n",
       "\t<tr><th></th><th scope=col>model</th><th scope=col>release</th><th scope=col>patched</th><th scope=col>test_id</th><th scope=col>increase</th></tr>\n",
       "\t<tr><th></th><th scope=col>&lt;chr&gt;</th><th scope=col>&lt;dbl&gt;</th><th scope=col>&lt;dbl&gt;</th><th scope=col>&lt;int&gt;</th><th scope=col>&lt;dbl&gt;</th></tr>\n",
       "</thead>\n",
       "<tbody>\n",
       "\t<tr><th scope=row>65</th><td>Nvidia</td><td>85,1</td><td> 98,3</td><td>33</td><td>13,2</td></tr>\n",
       "\t<tr><th scope=row>96</th><td>AMD   </td><td>86,1</td><td>100,1</td><td>48</td><td>14,0</td></tr>\n",
       "</tbody>\n",
       "</table>\n"
      ],
      "text/latex": [
       "A data.frame: 2 × 5\n",
       "\\begin{tabular}{r|lllll}\n",
       "  & model & release & patched & test\\_id & increase\\\\\n",
       "  & <chr> & <dbl> & <dbl> & <int> & <dbl>\\\\\n",
       "\\hline\n",
       "\t65 & Nvidia & 85,1 &  98,3 & 33 & 13,2\\\\\n",
       "\t96 & AMD    & 86,1 & 100,1 & 48 & 14,0\\\\\n",
       "\\end{tabular}\n"
      ],
      "text/markdown": [
       "\n",
       "A data.frame: 2 × 5\n",
       "\n",
       "| <!--/--> | model &lt;chr&gt; | release &lt;dbl&gt; | patched &lt;dbl&gt; | test_id &lt;int&gt; | increase &lt;dbl&gt; |\n",
       "|---|---|---|---|---|---|\n",
       "| 65 | Nvidia | 85,1 |  98,3 | 33 | 13,2 |\n",
       "| 96 | AMD    | 86,1 | 100,1 | 48 | 14,0 |\n",
       "\n"
      ],
      "text/plain": [
       "   model  release patched test_id increase\n",
       "65 Nvidia 85,1     98,3   33      13,2    \n",
       "96 AMD    86,1    100,1   48      14,0    "
      ]
     },
     "metadata": {},
     "output_type": "display_data"
    }
   ],
   "source": [
    "dataS$id = 1:length(dataS$model)\n",
    "outliers_increase = \n",
    "  dataS %>% \n",
    "  group_by(model) %>%\n",
    "  identify_outliers(increase)\n",
    "dataS$is_outlier <- dataS$id %in% outliers_increase$id\n",
    "dataS$id <- NULL\n",
    "dataS_outliers <- dataS[dataS$is_outlier == TRUE, ]\n",
    "dataS_outliers$is_outlier <- NULL\n",
    "dataS_outliers"
   ]
  },
  {
   "cell_type": "code",
   "execution_count": 9,
   "metadata": {
    "vscode": {
     "languageId": "r"
    }
   },
   "outputs": [],
   "source": [
    "dataS_filtered <- dataS[dataS$is_outlier == FALSE, ]\n",
    "dataS_filtered$is_outlier <- NULL"
   ]
  },
  {
   "cell_type": "code",
   "execution_count": 10,
   "metadata": {
    "vscode": {
     "languageId": "r"
    }
   },
   "outputs": [
    {
     "data": {
      "text/html": [
       "<table class=\"dataframe\">\n",
       "<caption>A matrix: 19 × 2 of type chr</caption>\n",
       "<tbody>\n",
       "\t<tr><th scope=row>model</th><td>AMD         </td><td>Nvidia      </td></tr>\n",
       "\t<tr><th scope=row>rozsah</th><td>67          </td><td>64          </td></tr>\n",
       "\t<tr><th scope=row>minimum</th><td>3,5         </td><td>2,3         </td></tr>\n",
       "\t<tr><th scope=row>Q1</th><td>4,500       </td><td>4,075       </td></tr>\n",
       "\t<tr><th scope=row>prumer</th><td>4,937313    </td><td>4,700000    </td></tr>\n",
       "\t<tr><th scope=row>median</th><td>4,9         </td><td>4,6         </td></tr>\n",
       "\t<tr><th scope=row>Q3</th><td>5,35        </td><td>5,30        </td></tr>\n",
       "\t<tr><th scope=row>maximum</th><td>6,1         </td><td>6,7         </td></tr>\n",
       "\t<tr><th scope=row>rozptyl</th><td>0,3905563   </td><td>0,7765079   </td></tr>\n",
       "\t<tr><th scope=row>smerodatna_odchylka</th><td>0,6249450   </td><td>0,8811969   </td></tr>\n",
       "\t<tr><th scope=row>variacni_koeficient</th><td>12,65759    </td><td>18,74887    </td></tr>\n",
       "\t<tr><th scope=row>sikmost</th><td>-0,040650445</td><td>-0,008276821</td></tr>\n",
       "\t<tr><th scope=row>spicatost</th><td>-0,38438655 </td><td>-0,02928004 </td></tr>\n",
       "\t<tr><th scope=row>dolni_1sig</th><td>4,312368    </td><td>3,818803    </td></tr>\n",
       "\t<tr><th scope=row>horni_1sig</th><td>5,562258    </td><td>5,581197    </td></tr>\n",
       "\t<tr><th scope=row>dolni_2sig</th><td>3,687423    </td><td>2,937606    </td></tr>\n",
       "\t<tr><th scope=row>horni_2sig</th><td>6,187204    </td><td>6,462394    </td></tr>\n",
       "\t<tr><th scope=row>dolni_3sig</th><td>3,062478    </td><td>2,056409    </td></tr>\n",
       "\t<tr><th scope=row>horni_3sig</th><td>6,812149    </td><td>7,343591    </td></tr>\n",
       "</tbody>\n",
       "</table>\n"
      ],
      "text/latex": [
       "A matrix: 19 × 2 of type chr\n",
       "\\begin{tabular}{r|ll}\n",
       "\tmodel & AMD          & Nvidia      \\\\\n",
       "\trozsah & 67           & 64          \\\\\n",
       "\tminimum & 3,5          & 2,3         \\\\\n",
       "\tQ1 & 4,500        & 4,075       \\\\\n",
       "\tprumer & 4,937313     & 4,700000    \\\\\n",
       "\tmedian & 4,9          & 4,6         \\\\\n",
       "\tQ3 & 5,35         & 5,30        \\\\\n",
       "\tmaximum & 6,1          & 6,7         \\\\\n",
       "\trozptyl & 0,3905563    & 0,7765079   \\\\\n",
       "\tsmerodatna\\_odchylka & 0,6249450    & 0,8811969   \\\\\n",
       "\tvariacni\\_koeficient & 12,65759     & 18,74887    \\\\\n",
       "\tsikmost & -0,040650445 & -0,008276821\\\\\n",
       "\tspicatost & -0,38438655  & -0,02928004 \\\\\n",
       "\tdolni\\_1sig & 4,312368     & 3,818803    \\\\\n",
       "\thorni\\_1sig & 5,562258     & 5,581197    \\\\\n",
       "\tdolni\\_2sig & 3,687423     & 2,937606    \\\\\n",
       "\thorni\\_2sig & 6,187204     & 6,462394    \\\\\n",
       "\tdolni\\_3sig & 3,062478     & 2,056409    \\\\\n",
       "\thorni\\_3sig & 6,812149     & 7,343591    \\\\\n",
       "\\end{tabular}\n"
      ],
      "text/markdown": [
       "\n",
       "A matrix: 19 × 2 of type chr\n",
       "\n",
       "| model | AMD          | Nvidia       |\n",
       "| rozsah | 67           | 64           |\n",
       "| minimum | 3,5          | 2,3          |\n",
       "| Q1 | 4,500        | 4,075        |\n",
       "| prumer | 4,937313     | 4,700000     |\n",
       "| median | 4,9          | 4,6          |\n",
       "| Q3 | 5,35         | 5,30         |\n",
       "| maximum | 6,1          | 6,7          |\n",
       "| rozptyl | 0,3905563    | 0,7765079    |\n",
       "| smerodatna_odchylka | 0,6249450    | 0,8811969    |\n",
       "| variacni_koeficient | 12,65759     | 18,74887     |\n",
       "| sikmost | -0,040650445 | -0,008276821 |\n",
       "| spicatost | -0,38438655  | -0,02928004  |\n",
       "| dolni_1sig | 4,312368     | 3,818803     |\n",
       "| horni_1sig | 5,562258     | 5,581197     |\n",
       "| dolni_2sig | 3,687423     | 2,937606     |\n",
       "| horni_2sig | 6,187204     | 6,462394     |\n",
       "| dolni_3sig | 3,062478     | 2,056409     |\n",
       "| horni_3sig | 6,812149     | 7,343591     |\n",
       "\n"
      ],
      "text/plain": [
       "                    [,1]         [,2]        \n",
       "model               AMD          Nvidia      \n",
       "rozsah              67           64          \n",
       "minimum             3,5          2,3         \n",
       "Q1                  4,500        4,075       \n",
       "prumer              4,937313     4,700000    \n",
       "median              4,9          4,6         \n",
       "Q3                  5,35         5,30        \n",
       "maximum             6,1          6,7         \n",
       "rozptyl             0,3905563    0,7765079   \n",
       "smerodatna_odchylka 0,6249450    0,8811969   \n",
       "variacni_koeficient 12,65759     18,74887    \n",
       "sikmost             -0,040650445 -0,008276821\n",
       "spicatost           -0,38438655  -0,02928004 \n",
       "dolni_1sig          4,312368     3,818803    \n",
       "horni_1sig          5,562258     5,581197    \n",
       "dolni_2sig          3,687423     2,937606    \n",
       "horni_2sig          6,187204     6,462394    \n",
       "dolni_3sig          3,062478     2,056409    \n",
       "horni_3sig          6,812149     7,343591    "
      ]
     },
     "metadata": {},
     "output_type": "display_data"
    }
   ],
   "source": [
    "charakteristiky_dle_modelu_bez_out = \n",
    "  dataS_filtered %>%\n",
    "  group_by(model) %>%\n",
    "  summarise(rozsah = length(na.omit(increase)),\n",
    "            minimum = min(increase, na.rm=T),\n",
    "            Q1 = quantile(increase, 0.25, na.rm=T),\n",
    "            prumer = mean(increase, na.rm=T),\n",
    "            median = median(increase, na.rm=T),\n",
    "            Q3 = quantile(increase, 0.75, na.rm=T),\n",
    "            maximum = max(increase, na.rm=T),\n",
    "            rozptyl = var(increase, na.rm=T),\n",
    "            smerodatna_odchylka = sd(increase,na.rm=T),\n",
    "            variacni_koeficient = (100*(smerodatna_odchylka/prumer)),\n",
    "            sikmost = (moments::skewness(increase, na.rm=T)),\n",
    "            spicatost = (moments::kurtosis(increase, na.rm=T)-3),\n",
    "            dolni_1sig = prumer - smerodatna_odchylka,\n",
    "            horni_1sig = prumer + smerodatna_odchylka,\n",
    "            dolni_2sig = prumer - 2*smerodatna_odchylka,\n",
    "            horni_2sig = prumer + 2*smerodatna_odchylka,\n",
    "            dolni_3sig = prumer - 3*smerodatna_odchylka,\n",
    "            horni_3sig = prumer + 3*smerodatna_odchylka)\n",
    "t(charakteristiky_dle_modelu_bez_out)"
   ]
  },
  {
   "cell_type": "code",
   "execution_count": 11,
   "metadata": {
    "vscode": {
     "languageId": "r"
    }
   },
   "outputs": [
    {
     "data": {
      "image/png": "[encoded data removed]",
      "text/plain": [
       "plot without title"
      ]
     },
     "metadata": {
      "image/png": {
       "height": 420,
       "width": 420
      }
     },
     "output_type": "display_data"
    }
   ],
   "source": [
    "hist <- ggplot(dataS_filtered,\n",
    "                aes(x = increase)) +\n",
    "  geom_histogram(binwidth = 0.4,\n",
    "                 color = \"black\",    \n",
    "                 fill = \"lightblue\") + \n",
    "  geom_density() +\n",
    "  labs(x = \"zvýšení výkonu od patche 1.5 (fps)\", y = \"četnost\") +\n",
    "  theme_bw() +\n",
    "  theme(axis.text = element_text(color = \"black\", size = 13),\n",
    "        axis.title = element_text(size = 13),\n",
    "        plot.title = element_text(hjust = 0.5)) + \n",
    "  facet_wrap(~fct_reorder(model, increase), nrow = 2)\n",
    "qq <- ggplot(dataS_filtered, aes(sample = increase))+\n",
    "  stat_qq()+\n",
    "  stat_qq_line()+\n",
    "  theme_bw() +\n",
    "  labs(x = \"norm. teoretické kvantily\", y = \"výběrové kvantily\") +\n",
    "  facet_wrap(\"model\", nrow = 2, scales = \"free\")\n",
    "ggarrange(hist, qq, nrow = 1)\n",
    "ggsave(\"plots/2.png\", ggarrange(hist, qq, nrow = 1), width = 10, height = 5)"
   ]
  },
  {
   "cell_type": "code",
   "execution_count": 12,
   "metadata": {
    "vscode": {
     "languageId": "r"
    }
   },
   "outputs": [],
   "source": [
    "data_Nvidia <- subset(dataS_filtered, model == \"Nvidia\")$increase\n",
    "data_AMD <- subset(dataS_filtered, model == \"AMD\")$increase"
   ]
  },
  {
   "cell_type": "code",
   "execution_count": 13,
   "metadata": {
    "vscode": {
     "languageId": "r"
    }
   },
   "outputs": [
    {
     "data": {
      "text/html": [
       "0,887122658738881"
      ],
      "text/latex": [
       "0,887122658738881"
      ],
      "text/markdown": [
       "0,887122658738881"
      ],
      "text/plain": [
       "[1] 0,8871227"
      ]
     },
     "metadata": {},
     "output_type": "display_data"
    },
    {
     "data": {
      "text/html": [
       "0,310442699952968"
      ],
      "text/latex": [
       "0,310442699952968"
      ],
      "text/markdown": [
       "0,310442699952968"
      ],
      "text/plain": [
       "[1] 0,3104427"
      ]
     },
     "metadata": {},
     "output_type": "display_data"
    }
   ],
   "source": [
    "shapiro.test(data_Nvidia)$p.value\n",
    "shapiro.test(data_AMD)$p.value"
   ]
  },
  {
   "cell_type": "code",
   "execution_count": 14,
   "metadata": {
    "vscode": {
     "languageId": "r"
    }
   },
   "outputs": [
    {
     "data": {
      "text/html": [
       "<strong>Test statistic:</strong> 0,22328878450506"
      ],
      "text/latex": [
       "\\textbf{Test statistic:} 0,22328878450506"
      ],
      "text/markdown": [
       "**Test statistic:** 0,22328878450506"
      ],
      "text/plain": [
       "Test statistic \n",
       "     0,2232888 "
      ]
     },
     "metadata": {},
     "output_type": "display_data"
    },
    {
     "data": {
      "text/html": [
       "<strong>Test statistic:</strong> 0,513818583180228"
      ],
      "text/latex": [
       "\\textbf{Test statistic:} 0,513818583180228"
      ],
      "text/markdown": [
       "**Test statistic:** 0,513818583180228"
      ],
      "text/plain": [
       "Test statistic \n",
       "     0,5138186 "
      ]
     },
     "metadata": {},
     "output_type": "display_data"
    }
   ],
   "source": [
    "# Unnecessary since both are normal for a = 5%\n",
    "symmetry.test(data_Nvidia, boot = FALSE)$p.value\n",
    "symmetry.test(data_AMD, boot = FALSE)$p.value"
   ]
  },
  {
   "cell_type": "code",
   "execution_count": 15,
   "metadata": {
    "vscode": {
     "languageId": "r"
    }
   },
   "outputs": [
    {
     "data": {
      "text/html": [
       "4,7"
      ],
      "text/latex": [
       "4,7"
      ],
      "text/markdown": [
       "4,7"
      ],
      "text/plain": [
       "[1] 4,7"
      ]
     },
     "metadata": {},
     "output_type": "display_data"
    },
    {
     "data": {
      "text/html": [
       "4,93731343283582"
      ],
      "text/latex": [
       "4,93731343283582"
      ],
      "text/markdown": [
       "4,93731343283582"
      ],
      "text/plain": [
       "[1] 4,937313"
      ]
     },
     "metadata": {},
     "output_type": "display_data"
    }
   ],
   "source": [
    "mean(data_Nvidia)\n",
    "mean(data_AMD)"
   ]
  },
  {
   "cell_type": "code",
   "execution_count": 16,
   "metadata": {
    "vscode": {
     "languageId": "r"
    }
   },
   "outputs": [
    {
     "data": {
      "text/plain": [
       "\n",
       "\tOne Sample t-test\n",
       "\n",
       "data:  data_Nvidia\n",
       "t = 42,669, df = 63, p-value < 0,00000000000000022\n",
       "alternative hypothesis: true mean is greater than 0\n",
       "95 percent confidence interval:\n",
       " 4,516116      Inf\n",
       "sample estimates:\n",
       "mean of x \n",
       "      4,7 \n"
      ]
     },
     "metadata": {},
     "output_type": "display_data"
    },
    {
     "data": {
      "text/plain": [
       "\n",
       "\tOne Sample t-test\n",
       "\n",
       "data:  data_AMD\n",
       "t = 64,668, df = 66, p-value < 0,00000000000000022\n",
       "alternative hypothesis: true mean is greater than 0\n",
       "95 percent confidence interval:\n",
       " 4,809942      Inf\n",
       "sample estimates:\n",
       "mean of x \n",
       " 4,937313 \n"
      ]
     },
     "metadata": {},
     "output_type": "display_data"
    }
   ],
   "source": [
    "t.test(data_Nvidia, mu = 0, alternative = \"greater\", conf.int = TRUE, conf.level = 0.95)\n",
    "t.test(data_AMD, mu = 0, alternative = \"greater\", conf.int = TRUE, conf.level = 0.95)"
   ]
  },
  {
   "cell_type": "code",
   "execution_count": 17,
   "metadata": {
    "vscode": {
     "languageId": "r"
    }
   },
   "outputs": [
    {
     "name": "stdout",
     "output_type": "stream",
     "text": [
      "[1] 0,2373134\n"
     ]
    }
   ],
   "source": [
    "print(mean(data_AMD) - mean(data_Nvidia))"
   ]
  },
  {
   "cell_type": "code",
   "execution_count": 18,
   "metadata": {
    "vscode": {
     "languageId": "r"
    }
   },
   "outputs": [
    {
     "data": {
      "text/html": [
       "1,98820994026664"
      ],
      "text/latex": [
       "1,98820994026664"
      ],
      "text/markdown": [
       "1,98820994026664"
      ],
      "text/plain": [
       "[1] 1,98821"
      ]
     },
     "metadata": {},
     "output_type": "display_data"
    }
   ],
   "source": [
    "var_AMD <- var(data_AMD)\n",
    "var_Nvidia <- var(data_Nvidia)\n",
    "var_Nvidia / var_AMD"
   ]
  },
  {
   "cell_type": "code",
   "execution_count": 19,
   "metadata": {
    "vscode": {
     "languageId": "r"
    }
   },
   "outputs": [
    {
     "data": {
      "text/plain": [
       "\n",
       "\tF test to compare two variances\n",
       "\n",
       "data:  data_AMD and data_Nvidia\n",
       "F = 0,50296, num df = 66, denom df = 63, p-value = 0,006314\n",
       "alternative hypothesis: true ratio of variances is not equal to 1\n",
       "95 percent confidence interval:\n",
       " 0,3069021 0,8219337\n",
       "sample estimates:\n",
       "ratio of variances \n",
       "          0,502965 \n"
      ]
     },
     "metadata": {},
     "output_type": "display_data"
    }
   ],
   "source": [
    "var.test(data_AMD, data_Nvidia)"
   ]
  },
  {
   "cell_type": "code",
   "execution_count": 20,
   "metadata": {
    "vscode": {
     "languageId": "r"
    }
   },
   "outputs": [
    {
     "data": {
      "text/plain": [
       "\n",
       "\tWelch Two Sample t-test\n",
       "\n",
       "data:  data_AMD and data_Nvidia\n",
       "t = 1,7707, df = 113,15, p-value = 0,03965\n",
       "alternative hypothesis: true difference in means is greater than 0\n",
       "95 percent confidence interval:\n",
       " 0,01504554        Inf\n",
       "sample estimates:\n",
       "mean of x mean of y \n",
       " 4,937313  4,700000 \n"
      ]
     },
     "metadata": {},
     "output_type": "display_data"
    }
   ],
   "source": [
    "t.test(data_AMD, data_Nvidia, mu = 0, alternative = \"greater\", conf.int = TRUE, conf.level = 0.95, var.equal = FALSE)"
   ]
  },
  {
   "cell_type": "code",
   "execution_count": 21,
   "metadata": {
    "vscode": {
     "languageId": "r"
    }
   },
   "outputs": [
    {
     "data": {
      "text/html": [
       "<table class=\"dataframe\">\n",
       "<caption>A data.frame: 6 × 8</caption>\n",
       "<thead>\n",
       "\t<tr><th></th><th scope=col>N2080_REL</th><th scope=col>N2080_PAT</th><th scope=col>N3070_REL</th><th scope=col>N3070_PAT</th><th scope=col>A6800_REL</th><th scope=col>A6800_PAT</th><th scope=col>A7700_REL</th><th scope=col>A7700_PAT</th></tr>\n",
       "\t<tr><th></th><th scope=col>&lt;dbl&gt;</th><th scope=col>&lt;dbl&gt;</th><th scope=col>&lt;dbl&gt;</th><th scope=col>&lt;dbl&gt;</th><th scope=col>&lt;dbl&gt;</th><th scope=col>&lt;dbl&gt;</th><th scope=col>&lt;dbl&gt;</th><th scope=col>&lt;dbl&gt;</th></tr>\n",
       "</thead>\n",
       "<tbody>\n",
       "\t<tr><th scope=row>1</th><td>92,8</td><td>98,4</td><td>84,0</td><td>89,3</td><td>84,4</td><td>90,1</td><td>82,6</td><td>87,2</td></tr>\n",
       "\t<tr><th scope=row>2</th><td>90,4</td><td>95,7</td><td>84,5</td><td>91,0</td><td>83,3</td><td>86,5</td><td>86,1</td><td>90,8</td></tr>\n",
       "\t<tr><th scope=row>3</th><td>91,6</td><td>96,3</td><td>83,6</td><td>89,3</td><td>83,0</td><td>88,9</td><td>84,1</td><td>88,2</td></tr>\n",
       "\t<tr><th scope=row>4</th><td>91,5</td><td>96,5</td><td>82,5</td><td>86,6</td><td>84,9</td><td>91,0</td><td>83,6</td><td>88,7</td></tr>\n",
       "\t<tr><th scope=row>5</th><td>92,1</td><td>98,1</td><td>82,9</td><td>87,5</td><td>84,8</td><td>91,5</td><td>85,6</td><td>89,3</td></tr>\n",
       "\t<tr><th scope=row>6</th><td>91,2</td><td>95,7</td><td>83,0</td><td>86,7</td><td>83,2</td><td>88,3</td><td>85,9</td><td>91,9</td></tr>\n",
       "</tbody>\n",
       "</table>\n"
      ],
      "text/latex": [
       "A data.frame: 6 × 8\n",
       "\\begin{tabular}{r|llllllll}\n",
       "  & N2080\\_REL & N2080\\_PAT & N3070\\_REL & N3070\\_PAT & A6800\\_REL & A6800\\_PAT & A7700\\_REL & A7700\\_PAT\\\\\n",
       "  & <dbl> & <dbl> & <dbl> & <dbl> & <dbl> & <dbl> & <dbl> & <dbl>\\\\\n",
       "\\hline\n",
       "\t1 & 92,8 & 98,4 & 84,0 & 89,3 & 84,4 & 90,1 & 82,6 & 87,2\\\\\n",
       "\t2 & 90,4 & 95,7 & 84,5 & 91,0 & 83,3 & 86,5 & 86,1 & 90,8\\\\\n",
       "\t3 & 91,6 & 96,3 & 83,6 & 89,3 & 83,0 & 88,9 & 84,1 & 88,2\\\\\n",
       "\t4 & 91,5 & 96,5 & 82,5 & 86,6 & 84,9 & 91,0 & 83,6 & 88,7\\\\\n",
       "\t5 & 92,1 & 98,1 & 82,9 & 87,5 & 84,8 & 91,5 & 85,6 & 89,3\\\\\n",
       "\t6 & 91,2 & 95,7 & 83,0 & 86,7 & 83,2 & 88,3 & 85,9 & 91,9\\\\\n",
       "\\end{tabular}\n"
      ],
      "text/markdown": [
       "\n",
       "A data.frame: 6 × 8\n",
       "\n",
       "| <!--/--> | N2080_REL &lt;dbl&gt; | N2080_PAT &lt;dbl&gt; | N3070_REL &lt;dbl&gt; | N3070_PAT &lt;dbl&gt; | A6800_REL &lt;dbl&gt; | A6800_PAT &lt;dbl&gt; | A7700_REL &lt;dbl&gt; | A7700_PAT &lt;dbl&gt; |\n",
       "|---|---|---|---|---|---|---|---|---|\n",
       "| 1 | 92,8 | 98,4 | 84,0 | 89,3 | 84,4 | 90,1 | 82,6 | 87,2 |\n",
       "| 2 | 90,4 | 95,7 | 84,5 | 91,0 | 83,3 | 86,5 | 86,1 | 90,8 |\n",
       "| 3 | 91,6 | 96,3 | 83,6 | 89,3 | 83,0 | 88,9 | 84,1 | 88,2 |\n",
       "| 4 | 91,5 | 96,5 | 82,5 | 86,6 | 84,9 | 91,0 | 83,6 | 88,7 |\n",
       "| 5 | 92,1 | 98,1 | 82,9 | 87,5 | 84,8 | 91,5 | 85,6 | 89,3 |\n",
       "| 6 | 91,2 | 95,7 | 83,0 | 86,7 | 83,2 | 88,3 | 85,9 | 91,9 |\n",
       "\n"
      ],
      "text/plain": [
       "  N2080_REL N2080_PAT N3070_REL N3070_PAT A6800_REL A6800_PAT A7700_REL\n",
       "1 92,8      98,4      84,0      89,3      84,4      90,1      82,6     \n",
       "2 90,4      95,7      84,5      91,0      83,3      86,5      86,1     \n",
       "3 91,6      96,3      83,6      89,3      83,0      88,9      84,1     \n",
       "4 91,5      96,5      82,5      86,6      84,9      91,0      83,6     \n",
       "5 92,1      98,1      82,9      87,5      84,8      91,5      85,6     \n",
       "6 91,2      95,7      83,0      86,7      83,2      88,3      85,9     \n",
       "  A7700_PAT\n",
       "1 87,2     \n",
       "2 90,8     \n",
       "3 88,2     \n",
       "4 88,7     \n",
       "5 89,3     \n",
       "6 91,9     "
      ]
     },
     "metadata": {},
     "output_type": "display_data"
    }
   ],
   "source": [
    "data = read_excel(\"data/ukol_180.xlsx\")\n",
    "colnames(data) = c(\n",
    "    \"Id\",\n",
    "    \"N2080_REL\",\"N2080_PAT\",\n",
    "    \"N3070_REL\",\"N3070_PAT\",\n",
    "    \"A6800_REL\",\"A6800_PAT\",\n",
    "    \"A7700_REL\",\"A7700_PAT\"\n",
    ")\n",
    "data = as.data.frame(data)\n",
    "data = data[ ,-1]\n",
    "head(data)"
   ]
  },
  {
   "cell_type": "code",
   "execution_count": 22,
   "metadata": {
    "vscode": {
     "languageId": "r"
    }
   },
   "outputs": [
    {
     "data": {
      "text/html": [
       "<table class=\"dataframe\">\n",
       "<caption>A data.frame: 6 × 4</caption>\n",
       "<thead>\n",
       "\t<tr><th></th><th scope=col>model</th><th scope=col>release</th><th scope=col>patched</th><th scope=col>test_id</th></tr>\n",
       "\t<tr><th></th><th scope=col>&lt;chr&gt;</th><th scope=col>&lt;dbl&gt;</th><th scope=col>&lt;dbl&gt;</th><th scope=col>&lt;int&gt;</th></tr>\n",
       "</thead>\n",
       "<tbody>\n",
       "\t<tr><th scope=row>1</th><td>N2080</td><td>92,8</td><td>98,4</td><td>1</td></tr>\n",
       "\t<tr><th scope=row>2</th><td>N3070</td><td>84,0</td><td>89,3</td><td>1</td></tr>\n",
       "\t<tr><th scope=row>3</th><td>A6800</td><td>84,4</td><td>90,1</td><td>1</td></tr>\n",
       "\t<tr><th scope=row>4</th><td>A7700</td><td>82,6</td><td>87,2</td><td>1</td></tr>\n",
       "\t<tr><th scope=row>5</th><td>N2080</td><td>90,4</td><td>95,7</td><td>2</td></tr>\n",
       "\t<tr><th scope=row>6</th><td>N3070</td><td>84,5</td><td>91,0</td><td>2</td></tr>\n",
       "</tbody>\n",
       "</table>\n"
      ],
      "text/latex": [
       "A data.frame: 6 × 4\n",
       "\\begin{tabular}{r|llll}\n",
       "  & model & release & patched & test\\_id\\\\\n",
       "  & <chr> & <dbl> & <dbl> & <int>\\\\\n",
       "\\hline\n",
       "\t1 & N2080 & 92,8 & 98,4 & 1\\\\\n",
       "\t2 & N3070 & 84,0 & 89,3 & 1\\\\\n",
       "\t3 & A6800 & 84,4 & 90,1 & 1\\\\\n",
       "\t4 & A7700 & 82,6 & 87,2 & 1\\\\\n",
       "\t5 & N2080 & 90,4 & 95,7 & 2\\\\\n",
       "\t6 & N3070 & 84,5 & 91,0 & 2\\\\\n",
       "\\end{tabular}\n"
      ],
      "text/markdown": [
       "\n",
       "A data.frame: 6 × 4\n",
       "\n",
       "| <!--/--> | model &lt;chr&gt; | release &lt;dbl&gt; | patched &lt;dbl&gt; | test_id &lt;int&gt; |\n",
       "|---|---|---|---|---|\n",
       "| 1 | N2080 | 92,8 | 98,4 | 1 |\n",
       "| 2 | N3070 | 84,0 | 89,3 | 1 |\n",
       "| 3 | A6800 | 84,4 | 90,1 | 1 |\n",
       "| 4 | A7700 | 82,6 | 87,2 | 1 |\n",
       "| 5 | N2080 | 90,4 | 95,7 | 2 |\n",
       "| 6 | N3070 | 84,5 | 91,0 | 2 |\n",
       "\n"
      ],
      "text/plain": [
       "  model release patched test_id\n",
       "1 N2080 92,8    98,4    1      \n",
       "2 N3070 84,0    89,3    1      \n",
       "3 A6800 84,4    90,1    1      \n",
       "4 A7700 82,6    87,2    1      \n",
       "5 N2080 90,4    95,7    2      \n",
       "6 N3070 84,5    91,0    2      "
      ]
     },
     "metadata": {},
     "output_type": "display_data"
    },
    {
     "data": {
      "text/html": [
       "<table class=\"dataframe\">\n",
       "<caption>A data.frame: 6 × 4</caption>\n",
       "<thead>\n",
       "\t<tr><th></th><th scope=col>model</th><th scope=col>release</th><th scope=col>patched</th><th scope=col>test_id</th></tr>\n",
       "\t<tr><th></th><th scope=col>&lt;chr&gt;</th><th scope=col>&lt;dbl&gt;</th><th scope=col>&lt;dbl&gt;</th><th scope=col>&lt;int&gt;</th></tr>\n",
       "</thead>\n",
       "<tbody>\n",
       "\t<tr><th scope=row>271</th><td>A6800</td><td>84,9</td><td>91,9</td><td>68</td></tr>\n",
       "\t<tr><th scope=row>272</th><td>A7700</td><td>83,2</td><td>88,5</td><td>68</td></tr>\n",
       "\t<tr><th scope=row>273</th><td>N2080</td><td>91,1</td><td>96,8</td><td>69</td></tr>\n",
       "\t<tr><th scope=row>275</th><td>A6800</td><td>82,3</td><td>88,0</td><td>69</td></tr>\n",
       "\t<tr><th scope=row>277</th><td>N2080</td><td>91,5</td><td>96,1</td><td>70</td></tr>\n",
       "\t<tr><th scope=row>281</th><td>N2080</td><td>90,1</td><td>95,8</td><td>71</td></tr>\n",
       "</tbody>\n",
       "</table>\n"
      ],
      "text/latex": [
       "A data.frame: 6 × 4\n",
       "\\begin{tabular}{r|llll}\n",
       "  & model & release & patched & test\\_id\\\\\n",
       "  & <chr> & <dbl> & <dbl> & <int>\\\\\n",
       "\\hline\n",
       "\t271 & A6800 & 84,9 & 91,9 & 68\\\\\n",
       "\t272 & A7700 & 83,2 & 88,5 & 68\\\\\n",
       "\t273 & N2080 & 91,1 & 96,8 & 69\\\\\n",
       "\t275 & A6800 & 82,3 & 88,0 & 69\\\\\n",
       "\t277 & N2080 & 91,5 & 96,1 & 70\\\\\n",
       "\t281 & N2080 & 90,1 & 95,8 & 71\\\\\n",
       "\\end{tabular}\n"
      ],
      "text/markdown": [
       "\n",
       "A data.frame: 6 × 4\n",
       "\n",
       "| <!--/--> | model &lt;chr&gt; | release &lt;dbl&gt; | patched &lt;dbl&gt; | test_id &lt;int&gt; |\n",
       "|---|---|---|---|---|\n",
       "| 271 | A6800 | 84,9 | 91,9 | 68 |\n",
       "| 272 | A7700 | 83,2 | 88,5 | 68 |\n",
       "| 273 | N2080 | 91,1 | 96,8 | 69 |\n",
       "| 275 | A6800 | 82,3 | 88,0 | 69 |\n",
       "| 277 | N2080 | 91,5 | 96,1 | 70 |\n",
       "| 281 | N2080 | 90,1 | 95,8 | 71 |\n",
       "\n"
      ],
      "text/plain": [
       "    model release patched test_id\n",
       "271 A6800 84,9    91,9    68     \n",
       "272 A7700 83,2    88,5    68     \n",
       "273 N2080 91,1    96,8    69     \n",
       "275 A6800 82,3    88,0    69     \n",
       "277 N2080 91,5    96,1    70     \n",
       "281 N2080 90,1    95,8    71     "
      ]
     },
     "metadata": {},
     "output_type": "display_data"
    }
   ],
   "source": [
    "data_release = data[,c(1, 3, 5, 7)]\n",
    "colnames(data_release) = c(\"N2080\", \"N3070\", \"A6800\", \"A7700\")\n",
    "data_patched = data[,c(2, 4, 6, 8)]\n",
    "colnames(data_patched) = c(\"N2080\", \"N3070\", \"A6800\", \"A7700\")\n",
    "data_release = data_release %>% \n",
    "  pivot_longer(\n",
    "    cols = N2080:A7700,\n",
    "    names_to = \"model\",\n",
    "    values_to = \"release\")\n",
    "data_patched = data_patched %>% \n",
    "  pivot_longer(\n",
    "    cols = N2080:A7700,\n",
    "    names_to = \"model\",\n",
    "    values_to = \"patched\")\n",
    "dataS = cbind(data_release, data_patched)\n",
    "dataS = dataS[,-3]\n",
    "dataS$test_id = rep(1:(nrow(data)), each = 4)\n",
    "dataS = na.omit(dataS)\n",
    "head(dataS)\n",
    "tail(dataS)"
   ]
  },
  {
   "cell_type": "code",
   "execution_count": 23,
   "metadata": {
    "vscode": {
     "languageId": "r"
    }
   },
   "outputs": [
    {
     "data": {
      "text/html": [
       "<table class=\"dataframe\">\n",
       "<caption>A data.frame: 6 × 5</caption>\n",
       "<thead>\n",
       "\t<tr><th></th><th scope=col>model</th><th scope=col>release</th><th scope=col>patched</th><th scope=col>test_id</th><th scope=col>increase</th></tr>\n",
       "\t<tr><th></th><th scope=col>&lt;chr&gt;</th><th scope=col>&lt;dbl&gt;</th><th scope=col>&lt;dbl&gt;</th><th scope=col>&lt;int&gt;</th><th scope=col>&lt;dbl&gt;</th></tr>\n",
       "</thead>\n",
       "<tbody>\n",
       "\t<tr><th scope=row>1</th><td>N2080</td><td>92,8</td><td>98,4</td><td>1</td><td>5,6</td></tr>\n",
       "\t<tr><th scope=row>2</th><td>N3070</td><td>84,0</td><td>89,3</td><td>1</td><td>5,3</td></tr>\n",
       "\t<tr><th scope=row>3</th><td>A6800</td><td>84,4</td><td>90,1</td><td>1</td><td>5,7</td></tr>\n",
       "\t<tr><th scope=row>4</th><td>A7700</td><td>82,6</td><td>87,2</td><td>1</td><td>4,6</td></tr>\n",
       "\t<tr><th scope=row>5</th><td>N2080</td><td>90,4</td><td>95,7</td><td>2</td><td>5,3</td></tr>\n",
       "\t<tr><th scope=row>6</th><td>N3070</td><td>84,5</td><td>91,0</td><td>2</td><td>6,5</td></tr>\n",
       "</tbody>\n",
       "</table>\n"
      ],
      "text/latex": [
       "A data.frame: 6 × 5\n",
       "\\begin{tabular}{r|lllll}\n",
       "  & model & release & patched & test\\_id & increase\\\\\n",
       "  & <chr> & <dbl> & <dbl> & <int> & <dbl>\\\\\n",
       "\\hline\n",
       "\t1 & N2080 & 92,8 & 98,4 & 1 & 5,6\\\\\n",
       "\t2 & N3070 & 84,0 & 89,3 & 1 & 5,3\\\\\n",
       "\t3 & A6800 & 84,4 & 90,1 & 1 & 5,7\\\\\n",
       "\t4 & A7700 & 82,6 & 87,2 & 1 & 4,6\\\\\n",
       "\t5 & N2080 & 90,4 & 95,7 & 2 & 5,3\\\\\n",
       "\t6 & N3070 & 84,5 & 91,0 & 2 & 6,5\\\\\n",
       "\\end{tabular}\n"
      ],
      "text/markdown": [
       "\n",
       "A data.frame: 6 × 5\n",
       "\n",
       "| <!--/--> | model &lt;chr&gt; | release &lt;dbl&gt; | patched &lt;dbl&gt; | test_id &lt;int&gt; | increase &lt;dbl&gt; |\n",
       "|---|---|---|---|---|---|\n",
       "| 1 | N2080 | 92,8 | 98,4 | 1 | 5,6 |\n",
       "| 2 | N3070 | 84,0 | 89,3 | 1 | 5,3 |\n",
       "| 3 | A6800 | 84,4 | 90,1 | 1 | 5,7 |\n",
       "| 4 | A7700 | 82,6 | 87,2 | 1 | 4,6 |\n",
       "| 5 | N2080 | 90,4 | 95,7 | 2 | 5,3 |\n",
       "| 6 | N3070 | 84,5 | 91,0 | 2 | 6,5 |\n",
       "\n"
      ],
      "text/plain": [
       "  model release patched test_id increase\n",
       "1 N2080 92,8    98,4    1       5,6     \n",
       "2 N3070 84,0    89,3    1       5,3     \n",
       "3 A6800 84,4    90,1    1       5,7     \n",
       "4 A7700 82,6    87,2    1       4,6     \n",
       "5 N2080 90,4    95,7    2       5,3     \n",
       "6 N3070 84,5    91,0    2       6,5     "
      ]
     },
     "metadata": {},
     "output_type": "display_data"
    }
   ],
   "source": [
    "dataS$increase = dataS$patched - dataS$release\n",
    "head(dataS)"
   ]
  },
  {
   "cell_type": "code",
   "execution_count": 24,
   "metadata": {
    "vscode": {
     "languageId": "r"
    }
   },
   "outputs": [
    {
     "data": {
      "text/html": [
       "<table class=\"dataframe\">\n",
       "<caption>A matrix: 15 × 4 of type chr</caption>\n",
       "<tbody>\n",
       "\t<tr><th scope=row>model</th><td>A6800   </td><td>A7700   </td><td>N2080   </td><td>N3070   </td></tr>\n",
       "\t<tr><th scope=row>rozsah</th><td>69      </td><td>68      </td><td>71      </td><td>65      </td></tr>\n",
       "\t<tr><th scope=row>minimum</th><td>2,8     </td><td>3,5     </td><td>3,5     </td><td>2,3     </td></tr>\n",
       "\t<tr><th scope=row>Q1</th><td>5,1     </td><td>4,5     </td><td>4,6     </td><td>4,1     </td></tr>\n",
       "\t<tr><th scope=row>prumer</th><td>5,739130</td><td>5,070588</td><td>5,274648</td><td>4,830769</td></tr>\n",
       "\t<tr><th scope=row>median</th><td>5,7     </td><td>4,9     </td><td>5,2     </td><td>4,6     </td></tr>\n",
       "\t<tr><th scope=row>Q3</th><td>6,3     </td><td>5,4     </td><td>5,7     </td><td>5,3     </td></tr>\n",
       "\t<tr><th scope=row>maximum</th><td>15,1    </td><td>14,0    </td><td>15,4    </td><td>13,2    </td></tr>\n",
       "\t<tr><th scope=row>rozptyl</th><td>2,317123</td><td>1,592555</td><td>2,074777</td><td>1,875913</td></tr>\n",
       "\t<tr><th scope=row>smerodatna_odchylka</th><td>1,522210</td><td>1,261965</td><td>1,440409</td><td>1,369640</td></tr>\n",
       "\t<tr><th scope=row>variacni_koeficient</th><td>26,52335</td><td>24,88793</td><td>27,30815</td><td>28,35242</td></tr>\n",
       "\t<tr><th scope=row>sikmost</th><td>3,189882</td><td>5,243677</td><td>4,930402</td><td>3,472060</td></tr>\n",
       "\t<tr><th scope=row>spicatost</th><td>19,07727</td><td>35,14539</td><td>32,59219</td><td>19,64881</td></tr>\n",
       "\t<tr><th scope=row>dolni_mez</th><td>3,30    </td><td>3,15    </td><td>2,95    </td><td>2,30    </td></tr>\n",
       "\t<tr><th scope=row>horni_mez</th><td>8,10    </td><td>6,75    </td><td>7,35    </td><td>7,10    </td></tr>\n",
       "</tbody>\n",
       "</table>\n"
      ],
      "text/latex": [
       "A matrix: 15 × 4 of type chr\n",
       "\\begin{tabular}{r|llll}\n",
       "\tmodel & A6800    & A7700    & N2080    & N3070   \\\\\n",
       "\trozsah & 69       & 68       & 71       & 65      \\\\\n",
       "\tminimum & 2,8      & 3,5      & 3,5      & 2,3     \\\\\n",
       "\tQ1 & 5,1      & 4,5      & 4,6      & 4,1     \\\\\n",
       "\tprumer & 5,739130 & 5,070588 & 5,274648 & 4,830769\\\\\n",
       "\tmedian & 5,7      & 4,9      & 5,2      & 4,6     \\\\\n",
       "\tQ3 & 6,3      & 5,4      & 5,7      & 5,3     \\\\\n",
       "\tmaximum & 15,1     & 14,0     & 15,4     & 13,2    \\\\\n",
       "\trozptyl & 2,317123 & 1,592555 & 2,074777 & 1,875913\\\\\n",
       "\tsmerodatna\\_odchylka & 1,522210 & 1,261965 & 1,440409 & 1,369640\\\\\n",
       "\tvariacni\\_koeficient & 26,52335 & 24,88793 & 27,30815 & 28,35242\\\\\n",
       "\tsikmost & 3,189882 & 5,243677 & 4,930402 & 3,472060\\\\\n",
       "\tspicatost & 19,07727 & 35,14539 & 32,59219 & 19,64881\\\\\n",
       "\tdolni\\_mez & 3,30     & 3,15     & 2,95     & 2,30    \\\\\n",
       "\thorni\\_mez & 8,10     & 6,75     & 7,35     & 7,10    \\\\\n",
       "\\end{tabular}\n"
      ],
      "text/markdown": [
       "\n",
       "A matrix: 15 × 4 of type chr\n",
       "\n",
       "| model | A6800    | A7700    | N2080    | N3070    |\n",
       "| rozsah | 69       | 68       | 71       | 65       |\n",
       "| minimum | 2,8      | 3,5      | 3,5      | 2,3      |\n",
       "| Q1 | 5,1      | 4,5      | 4,6      | 4,1      |\n",
       "| prumer | 5,739130 | 5,070588 | 5,274648 | 4,830769 |\n",
       "| median | 5,7      | 4,9      | 5,2      | 4,6      |\n",
       "| Q3 | 6,3      | 5,4      | 5,7      | 5,3      |\n",
       "| maximum | 15,1     | 14,0     | 15,4     | 13,2     |\n",
       "| rozptyl | 2,317123 | 1,592555 | 2,074777 | 1,875913 |\n",
       "| smerodatna_odchylka | 1,522210 | 1,261965 | 1,440409 | 1,369640 |\n",
       "| variacni_koeficient | 26,52335 | 24,88793 | 27,30815 | 28,35242 |\n",
       "| sikmost | 3,189882 | 5,243677 | 4,930402 | 3,472060 |\n",
       "| spicatost | 19,07727 | 35,14539 | 32,59219 | 19,64881 |\n",
       "| dolni_mez | 3,30     | 3,15     | 2,95     | 2,30     |\n",
       "| horni_mez | 8,10     | 6,75     | 7,35     | 7,10     |\n",
       "\n"
      ],
      "text/plain": [
       "                    [,1]     [,2]     [,3]     [,4]    \n",
       "model               A6800    A7700    N2080    N3070   \n",
       "rozsah              69       68       71       65      \n",
       "minimum             2,8      3,5      3,5      2,3     \n",
       "Q1                  5,1      4,5      4,6      4,1     \n",
       "prumer              5,739130 5,070588 5,274648 4,830769\n",
       "median              5,7      4,9      5,2      4,6     \n",
       "Q3                  6,3      5,4      5,7      5,3     \n",
       "maximum             15,1     14,0     15,4     13,2    \n",
       "rozptyl             2,317123 1,592555 2,074777 1,875913\n",
       "smerodatna_odchylka 1,522210 1,261965 1,440409 1,369640\n",
       "variacni_koeficient 26,52335 24,88793 27,30815 28,35242\n",
       "sikmost             3,189882 5,243677 4,930402 3,472060\n",
       "spicatost           19,07727 35,14539 32,59219 19,64881\n",
       "dolni_mez           3,30     3,15     2,95     2,30    \n",
       "horni_mez           8,10     6,75     7,35     7,10    "
      ]
     },
     "metadata": {},
     "output_type": "display_data"
    }
   ],
   "source": [
    "charakteristiky_dle_modelu = \n",
    "  dataS %>%\n",
    "  group_by(model) %>% \n",
    "  summarise(rozsah = length(na.omit(increase)),\n",
    "            minimum = min(increase, na.rm=T),\n",
    "            Q1 = quantile(increase, 0.25, na.rm=T),\n",
    "            prumer = mean(increase, na.rm=T),\n",
    "            median = median(increase, na.rm=T),\n",
    "            Q3 = quantile(increase, 0.75, na.rm=T),\n",
    "            maximum = max(increase, na.rm=T),\n",
    "            rozptyl = var(increase, na.rm=T),\n",
    "            smerodatna_odchylka = sd(increase,na.rm=T),\n",
    "            variacni_koeficient = (100*(smerodatna_odchylka/prumer)),\n",
    "            sikmost = (moments::skewness(increase, na.rm=T)),\n",
    "            spicatost = (moments::kurtosis(increase, na.rm=T)-3),\n",
    "            dolni_mez = Q1 - 1.5 * (Q3 - Q1),\n",
    "            horni_mez = Q3 + 1.5 * (Q3 - Q1))\n",
    "t(charakteristiky_dle_modelu)"
   ]
  },
  {
   "cell_type": "code",
   "execution_count": 25,
   "metadata": {
    "vscode": {
     "languageId": "r"
    }
   },
   "outputs": [
    {
     "data": {
      "image/png": "[encoded data removed]",
      "text/plain": [
       "plot without title"
      ]
     },
     "metadata": {
      "image/png": {
       "height": 420,
       "width": 420
      }
     },
     "output_type": "display_data"
    }
   ],
   "source": [
    "plot1 = ggplot(dataS, aes(x = fct_reorder(model,increase), y = increase))+\n",
    "  stat_boxplot(geom = \"errorbar\", width = 0.2) +\n",
    "  geom_boxplot()+\n",
    "  labs(x = \"\", y = \"zvýšení výkonu od patche 1.5 (fps)\") +\n",
    "  theme_light()+\n",
    "  stat_summary(geom = \"point\", fun = \"mean\", colour = \"red\", size = 2, shape = 3) +\n",
    "  theme(plot.title = element_text(hjust = 0.5))\n",
    "plot1\n",
    "ggsave(\"plots/3.png\", plot1, width = 5, height = 5)"
   ]
  },
  {
   "cell_type": "code",
   "execution_count": 26,
   "metadata": {
    "vscode": {
     "languageId": "r"
    }
   },
   "outputs": [
    {
     "data": {
      "text/html": [
       "<table class=\"dataframe\">\n",
       "<caption>A data.frame: 7 × 5</caption>\n",
       "<thead>\n",
       "\t<tr><th></th><th scope=col>model</th><th scope=col>release</th><th scope=col>patched</th><th scope=col>test_id</th><th scope=col>increase</th></tr>\n",
       "\t<tr><th></th><th scope=col>&lt;chr&gt;</th><th scope=col>&lt;dbl&gt;</th><th scope=col>&lt;dbl&gt;</th><th scope=col>&lt;int&gt;</th><th scope=col>&lt;dbl&gt;</th></tr>\n",
       "</thead>\n",
       "<tbody>\n",
       "\t<tr><th scope=row>7</th><td>A6800</td><td>83,3</td><td> 86,5</td><td> 2</td><td> 3,2</td></tr>\n",
       "\t<tr><th scope=row>59</th><td>A6800</td><td>83,6</td><td> 86,5</td><td>15</td><td> 2,9</td></tr>\n",
       "\t<tr><th scope=row>91</th><td>A6800</td><td>83,4</td><td> 86,2</td><td>23</td><td> 2,8</td></tr>\n",
       "\t<tr><th scope=row>95</th><td>A6800</td><td>84,0</td><td> 99,1</td><td>24</td><td>15,1</td></tr>\n",
       "\t<tr><th scope=row>130</th><td>N3070</td><td>85,1</td><td> 98,3</td><td>33</td><td>13,2</td></tr>\n",
       "\t<tr><th scope=row>141</th><td>N2080</td><td>90,7</td><td>106,1</td><td>36</td><td>15,4</td></tr>\n",
       "\t<tr><th scope=row>192</th><td>A7700</td><td>86,1</td><td>100,1</td><td>48</td><td>14,0</td></tr>\n",
       "</tbody>\n",
       "</table>\n"
      ],
      "text/latex": [
       "A data.frame: 7 × 5\n",
       "\\begin{tabular}{r|lllll}\n",
       "  & model & release & patched & test\\_id & increase\\\\\n",
       "  & <chr> & <dbl> & <dbl> & <int> & <dbl>\\\\\n",
       "\\hline\n",
       "\t7 & A6800 & 83,3 &  86,5 &  2 &  3,2\\\\\n",
       "\t59 & A6800 & 83,6 &  86,5 & 15 &  2,9\\\\\n",
       "\t91 & A6800 & 83,4 &  86,2 & 23 &  2,8\\\\\n",
       "\t95 & A6800 & 84,0 &  99,1 & 24 & 15,1\\\\\n",
       "\t130 & N3070 & 85,1 &  98,3 & 33 & 13,2\\\\\n",
       "\t141 & N2080 & 90,7 & 106,1 & 36 & 15,4\\\\\n",
       "\t192 & A7700 & 86,1 & 100,1 & 48 & 14,0\\\\\n",
       "\\end{tabular}\n"
      ],
      "text/markdown": [
       "\n",
       "A data.frame: 7 × 5\n",
       "\n",
       "| <!--/--> | model &lt;chr&gt; | release &lt;dbl&gt; | patched &lt;dbl&gt; | test_id &lt;int&gt; | increase &lt;dbl&gt; |\n",
       "|---|---|---|---|---|---|\n",
       "| 7 | A6800 | 83,3 |  86,5 |  2 |  3,2 |\n",
       "| 59 | A6800 | 83,6 |  86,5 | 15 |  2,9 |\n",
       "| 91 | A6800 | 83,4 |  86,2 | 23 |  2,8 |\n",
       "| 95 | A6800 | 84,0 |  99,1 | 24 | 15,1 |\n",
       "| 130 | N3070 | 85,1 |  98,3 | 33 | 13,2 |\n",
       "| 141 | N2080 | 90,7 | 106,1 | 36 | 15,4 |\n",
       "| 192 | A7700 | 86,1 | 100,1 | 48 | 14,0 |\n",
       "\n"
      ],
      "text/plain": [
       "    model release patched test_id increase\n",
       "7   A6800 83,3     86,5    2       3,2    \n",
       "59  A6800 83,6     86,5   15       2,9    \n",
       "91  A6800 83,4     86,2   23       2,8    \n",
       "95  A6800 84,0     99,1   24      15,1    \n",
       "130 N3070 85,1     98,3   33      13,2    \n",
       "141 N2080 90,7    106,1   36      15,4    \n",
       "192 A7700 86,1    100,1   48      14,0    "
      ]
     },
     "metadata": {},
     "output_type": "display_data"
    }
   ],
   "source": [
    "dataS$id = 1:length(dataS$model)\n",
    "outliers_increase = \n",
    "  dataS %>% \n",
    "  group_by(model) %>%\n",
    "  identify_outliers(increase)\n",
    "dataS$is_outlier <- dataS$id %in% outliers_increase$id\n",
    "dataS$id <- NULL\n",
    "dataS_outliers <- dataS[dataS$is_outlier == TRUE, ]\n",
    "dataS_outliers$is_outlier <- NULL\n",
    "dataS_outliers"
   ]
  },
  {
   "cell_type": "code",
   "execution_count": 27,
   "metadata": {
    "vscode": {
     "languageId": "r"
    }
   },
   "outputs": [],
   "source": [
    "dataS_filtered <- dataS[dataS$is_outlier == FALSE, ]\n",
    "dataS_filtered$is_outlier <- NULL"
   ]
  },
  {
   "cell_type": "code",
   "execution_count": 28,
   "metadata": {
    "vscode": {
     "languageId": "r"
    }
   },
   "outputs": [
    {
     "data": {
      "text/html": [
       "<table class=\"dataframe\">\n",
       "<caption>A matrix: 15 × 4 of type chr</caption>\n",
       "<tbody>\n",
       "\t<tr><th scope=row>model</th><td>A6800       </td><td>A7700       </td><td>N2080       </td><td>N3070       </td></tr>\n",
       "\t<tr><th scope=row>rozsah</th><td>65          </td><td>67          </td><td>70          </td><td>64          </td></tr>\n",
       "\t<tr><th scope=row>minimum</th><td>3,8         </td><td>3,5         </td><td>3,5         </td><td>2,3         </td></tr>\n",
       "\t<tr><th scope=row>Q1</th><td>5,100       </td><td>4,500       </td><td>4,600       </td><td>4,075       </td></tr>\n",
       "\t<tr><th scope=row>prumer</th><td>5,723077    </td><td>4,937313    </td><td>5,130000    </td><td>4,700000    </td></tr>\n",
       "\t<tr><th scope=row>median</th><td>5,70        </td><td>4,90        </td><td>5,15        </td><td>4,60        </td></tr>\n",
       "\t<tr><th scope=row>Q3</th><td>6,30        </td><td>5,35        </td><td>5,70        </td><td>5,30        </td></tr>\n",
       "\t<tr><th scope=row>maximum</th><td>7,6         </td><td>6,1         </td><td>7,0         </td><td>6,7         </td></tr>\n",
       "\t<tr><th scope=row>rozptyl</th><td>0,7308654   </td><td>0,3905563   </td><td>0,5977826   </td><td>0,7765079   </td></tr>\n",
       "\t<tr><th scope=row>smerodatna_odchylka</th><td>0,8549067   </td><td>0,6249450   </td><td>0,7731640   </td><td>0,8811969   </td></tr>\n",
       "\t<tr><th scope=row>variacni_koeficient</th><td>14,93789    </td><td>12,65759    </td><td>15,07142    </td><td>18,74887    </td></tr>\n",
       "\t<tr><th scope=row>sikmost</th><td> 0,155240368</td><td>-0,040650445</td><td> 0,131604719</td><td>-0,008276821</td></tr>\n",
       "\t<tr><th scope=row>spicatost</th><td>-0,49345801 </td><td>-0,38438655 </td><td>-0,52372262 </td><td>-0,02928004 </td></tr>\n",
       "\t<tr><th scope=row>dolni_mez</th><td>3,3000      </td><td>3,2250      </td><td>2,9500      </td><td>2,2375      </td></tr>\n",
       "\t<tr><th scope=row>horni_mez</th><td>8,1000      </td><td>6,6250      </td><td>7,3500      </td><td>7,1375      </td></tr>\n",
       "</tbody>\n",
       "</table>\n"
      ],
      "text/latex": [
       "A matrix: 15 × 4 of type chr\n",
       "\\begin{tabular}{r|llll}\n",
       "\tmodel & A6800        & A7700        & N2080        & N3070       \\\\\n",
       "\trozsah & 65           & 67           & 70           & 64          \\\\\n",
       "\tminimum & 3,8          & 3,5          & 3,5          & 2,3         \\\\\n",
       "\tQ1 & 5,100        & 4,500        & 4,600        & 4,075       \\\\\n",
       "\tprumer & 5,723077     & 4,937313     & 5,130000     & 4,700000    \\\\\n",
       "\tmedian & 5,70         & 4,90         & 5,15         & 4,60        \\\\\n",
       "\tQ3 & 6,30         & 5,35         & 5,70         & 5,30        \\\\\n",
       "\tmaximum & 7,6          & 6,1          & 7,0          & 6,7         \\\\\n",
       "\trozptyl & 0,7308654    & 0,3905563    & 0,5977826    & 0,7765079   \\\\\n",
       "\tsmerodatna\\_odchylka & 0,8549067    & 0,6249450    & 0,7731640    & 0,8811969   \\\\\n",
       "\tvariacni\\_koeficient & 14,93789     & 12,65759     & 15,07142     & 18,74887    \\\\\n",
       "\tsikmost &  0,155240368 & -0,040650445 &  0,131604719 & -0,008276821\\\\\n",
       "\tspicatost & -0,49345801  & -0,38438655  & -0,52372262  & -0,02928004 \\\\\n",
       "\tdolni\\_mez & 3,3000       & 3,2250       & 2,9500       & 2,2375      \\\\\n",
       "\thorni\\_mez & 8,1000       & 6,6250       & 7,3500       & 7,1375      \\\\\n",
       "\\end{tabular}\n"
      ],
      "text/markdown": [
       "\n",
       "A matrix: 15 × 4 of type chr\n",
       "\n",
       "| model | A6800        | A7700        | N2080        | N3070        |\n",
       "| rozsah | 65           | 67           | 70           | 64           |\n",
       "| minimum | 3,8          | 3,5          | 3,5          | 2,3          |\n",
       "| Q1 | 5,100        | 4,500        | 4,600        | 4,075        |\n",
       "| prumer | 5,723077     | 4,937313     | 5,130000     | 4,700000     |\n",
       "| median | 5,70         | 4,90         | 5,15         | 4,60         |\n",
       "| Q3 | 6,30         | 5,35         | 5,70         | 5,30         |\n",
       "| maximum | 7,6          | 6,1          | 7,0          | 6,7          |\n",
       "| rozptyl | 0,7308654    | 0,3905563    | 0,5977826    | 0,7765079    |\n",
       "| smerodatna_odchylka | 0,8549067    | 0,6249450    | 0,7731640    | 0,8811969    |\n",
       "| variacni_koeficient | 14,93789     | 12,65759     | 15,07142     | 18,74887     |\n",
       "| sikmost |  0,155240368 | -0,040650445 |  0,131604719 | -0,008276821 |\n",
       "| spicatost | -0,49345801  | -0,38438655  | -0,52372262  | -0,02928004  |\n",
       "| dolni_mez | 3,3000       | 3,2250       | 2,9500       | 2,2375       |\n",
       "| horni_mez | 8,1000       | 6,6250       | 7,3500       | 7,1375       |\n",
       "\n"
      ],
      "text/plain": [
       "                    [,1]         [,2]         [,3]         [,4]        \n",
       "model               A6800        A7700        N2080        N3070       \n",
       "rozsah              65           67           70           64          \n",
       "minimum             3,8          3,5          3,5          2,3         \n",
       "Q1                  5,100        4,500        4,600        4,075       \n",
       "prumer              5,723077     4,937313     5,130000     4,700000    \n",
       "median              5,70         4,90         5,15         4,60        \n",
       "Q3                  6,30         5,35         5,70         5,30        \n",
       "maximum             7,6          6,1          7,0          6,7         \n",
       "rozptyl             0,7308654    0,3905563    0,5977826    0,7765079   \n",
       "smerodatna_odchylka 0,8549067    0,6249450    0,7731640    0,8811969   \n",
       "variacni_koeficient 14,93789     12,65759     15,07142     18,74887    \n",
       "sikmost              0,155240368 -0,040650445  0,131604719 -0,008276821\n",
       "spicatost           -0,49345801  -0,38438655  -0,52372262  -0,02928004 \n",
       "dolni_mez           3,3000       3,2250       2,9500       2,2375      \n",
       "horni_mez           8,1000       6,6250       7,3500       7,1375      "
      ]
     },
     "metadata": {},
     "output_type": "display_data"
    }
   ],
   "source": [
    "charakteristiky_dle_modelu = \n",
    "  dataS_filtered %>%\n",
    "  group_by(model) %>% \n",
    "  summarise(rozsah = length(na.omit(increase)),\n",
    "            minimum = min(increase, na.rm=T),\n",
    "            Q1 = quantile(increase, 0.25, na.rm=T),\n",
    "            prumer = mean(increase, na.rm=T),\n",
    "            median = median(increase, na.rm=T),\n",
    "            Q3 = quantile(increase, 0.75, na.rm=T),\n",
    "            maximum = max(increase, na.rm=T),\n",
    "            rozptyl = var(increase, na.rm=T),\n",
    "            smerodatna_odchylka = sd(increase,na.rm=T),\n",
    "            variacni_koeficient = (100*(smerodatna_odchylka/prumer)),\n",
    "            sikmost = (moments::skewness(increase, na.rm=T)),\n",
    "            spicatost = (moments::kurtosis(increase, na.rm=T)-3),\n",
    "            dolni_mez = Q1 - 1.5 * (Q3 - Q1),\n",
    "            horni_mez = Q3 + 1.5 * (Q3 - Q1))\n",
    "t(charakteristiky_dle_modelu)"
   ]
  },
  {
   "cell_type": "code",
   "execution_count": 29,
   "metadata": {
    "vscode": {
     "languageId": "r"
    }
   },
   "outputs": [
    {
     "data": {
      "image/png": "[encoded data removed]",
      "text/plain": [
       "plot without title"
      ]
     },
     "metadata": {
      "image/png": {
       "height": 420,
       "width": 420
      }
     },
     "output_type": "display_data"
    }
   ],
   "source": [
    "hist <- ggplot(dataS_filtered,\n",
    "                aes(x = increase)) +\n",
    "  geom_histogram(binwidth = 0.4,\n",
    "                 color = \"black\",    \n",
    "                 fill = \"lightblue\") + \n",
    "  geom_density() +\n",
    "  labs(x = \"zvýšení výkonu od patche 1.5 (fps)\", y = \"četnost\") +\n",
    "  theme_bw() +\n",
    "  theme(axis.text = element_text(color = \"black\", size = 13),\n",
    "        axis.title = element_text(size = 13),\n",
    "        plot.title = element_text(hjust = 0.5)) + \n",
    "  facet_wrap(~fct_reorder(model, increase), nrow = 2)\n",
    "qq <- ggplot(dataS_filtered, aes(sample = increase))+\n",
    "  stat_qq()+\n",
    "  stat_qq_line()+\n",
    "  theme_bw() +\n",
    "  labs(x = \"norm. teoretické kvantily\", y = \"výběrové kvantily\") +\n",
    "  facet_wrap(\"model\", nrow = 2, scales = \"free\")\n",
    "ggarrange(hist, qq, nrow = 1)\n",
    "ggsave(\"plots/4.png\", ggarrange(hist, qq, nrow = 1), width = 10, height = 5)"
   ]
  },
  {
   "cell_type": "code",
   "execution_count": 30,
   "metadata": {
    "vscode": {
     "languageId": "r"
    }
   },
   "outputs": [],
   "source": [
    "data_N2080 <- subset(dataS_filtered, model == \"N2080\")$increase\n",
    "data_N3070 <- subset(dataS_filtered, model == \"N3070\")$increase\n",
    "data_A6800 <- subset(dataS_filtered, model == \"A6800\")$increase\n",
    "data_A7700 <- subset(dataS_filtered, model == \"A7700\")$increase"
   ]
  },
  {
   "cell_type": "code",
   "execution_count": 31,
   "metadata": {
    "vscode": {
     "languageId": "r"
    }
   },
   "outputs": [
    {
     "data": {
      "text/html": [
       "0,367817295958183"
      ],
      "text/latex": [
       "0,367817295958183"
      ],
      "text/markdown": [
       "0,367817295958183"
      ],
      "text/plain": [
       "[1] 0,3678173"
      ]
     },
     "metadata": {},
     "output_type": "display_data"
    },
    {
     "data": {
      "text/html": [
       "0,887122658738881"
      ],
      "text/latex": [
       "0,887122658738881"
      ],
      "text/markdown": [
       "0,887122658738881"
      ],
      "text/plain": [
       "[1] 0,8871227"
      ]
     },
     "metadata": {},
     "output_type": "display_data"
    },
    {
     "data": {
      "text/html": [
       "0,753285112847893"
      ],
      "text/latex": [
       "0,753285112847893"
      ],
      "text/markdown": [
       "0,753285112847893"
      ],
      "text/plain": [
       "[1] 0,7532851"
      ]
     },
     "metadata": {},
     "output_type": "display_data"
    },
    {
     "data": {
      "text/html": [
       "0,310442699952968"
      ],
      "text/latex": [
       "0,310442699952968"
      ],
      "text/markdown": [
       "0,310442699952968"
      ],
      "text/plain": [
       "[1] 0,3104427"
      ]
     },
     "metadata": {},
     "output_type": "display_data"
    }
   ],
   "source": [
    "shapiro.test(data_N2080)$p.value\n",
    "shapiro.test(data_N3070)$p.value\n",
    "shapiro.test(data_A6800)$p.value\n",
    "shapiro.test(data_A7700)$p.value"
   ]
  },
  {
   "cell_type": "code",
   "execution_count": 32,
   "metadata": {
    "vscode": {
     "languageId": "r"
    }
   },
   "outputs": [
    {
     "name": "stdout",
     "output_type": "stream",
     "text": [
      "Rozptyl pro model N2080: 0,5977826 \n",
      "Rozptyl pro model N3070: 0,7765079 \n",
      "Rozptyl pro model A6800: 0,7308654 \n",
      "Rozptyl pro model A7700: 0,3905563 \n"
     ]
    }
   ],
   "source": [
    "var_N2080 <- var(data_N2080)\n",
    "var_N3070 <- var(data_N3070)\n",
    "var_A6800 <- var(data_A6800)\n",
    "var_A7700 <- var(data_A7700)\n",
    "cat(\"Rozptyl pro model N2080:\", var_N2080, \"\\n\")\n",
    "cat(\"Rozptyl pro model N3070:\", var_N3070, \"\\n\")\n",
    "cat(\"Rozptyl pro model A6800:\", var_A6800, \"\\n\")\n",
    "cat(\"Rozptyl pro model A7700:\", var_A7700, \"\\n\")"
   ]
  },
  {
   "cell_type": "code",
   "execution_count": 33,
   "metadata": {
    "vscode": {
     "languageId": "r"
    }
   },
   "outputs": [
    {
     "data": {
      "text/html": [
       "1,98820994026664"
      ],
      "text/latex": [
       "1,98820994026664"
      ],
      "text/markdown": [
       "1,98820994026664"
      ],
      "text/plain": [
       "[1] 1,98821"
      ]
     },
     "metadata": {},
     "output_type": "display_data"
    }
   ],
   "source": [
    "var_N3070 / var_A7700"
   ]
  },
  {
   "cell_type": "code",
   "execution_count": 34,
   "metadata": {
    "vscode": {
     "languageId": "r"
    }
   },
   "outputs": [],
   "source": [
    "all_values <- c(data_N2080, data_N3070, data_A6800, data_A7700)\n",
    "groups <- factor(c(rep(\"N2080\", length(data_N2080)), \n",
    "                   rep(\"N3070\", length(data_N3070)), \n",
    "                   rep(\"A6800\", length(data_A6800)), \n",
    "                   rep(\"A7700\", length(data_A7700))))"
   ]
  },
  {
   "cell_type": "code",
   "execution_count": 35,
   "metadata": {
    "vscode": {
     "languageId": "r"
    }
   },
   "outputs": [
    {
     "name": "stdout",
     "output_type": "stream",
     "text": [
      "\n",
      "\tBartlett test of homogeneity of variances\n",
      "\n",
      "data:  all_values by groups\n",
      "Bartlett's K-squared = 8,7049, df = 3, p-value = 0,03348\n",
      "\n"
     ]
    }
   ],
   "source": [
    "bartlett_result <- bartlett.test(all_values ~ groups)\n",
    "print(bartlett_result)"
   ]
  },
  {
   "cell_type": "code",
   "execution_count": 36,
   "metadata": {
    "vscode": {
     "languageId": "r"
    }
   },
   "outputs": [
    {
     "data": {
      "text/html": [
       "5,15"
      ],
      "text/latex": [
       "5,15"
      ],
      "text/markdown": [
       "5,15"
      ],
      "text/plain": [
       "[1] 5,15"
      ]
     },
     "metadata": {},
     "output_type": "display_data"
    },
    {
     "data": {
      "text/html": [
       "4,60000000000001"
      ],
      "text/latex": [
       "4,60000000000001"
      ],
      "text/markdown": [
       "4,60000000000001"
      ],
      "text/plain": [
       "[1] 4,6"
      ]
     },
     "metadata": {},
     "output_type": "display_data"
    },
    {
     "data": {
      "text/html": [
       "5,7"
      ],
      "text/latex": [
       "5,7"
      ],
      "text/markdown": [
       "5,7"
      ],
      "text/plain": [
       "[1] 5,7"
      ]
     },
     "metadata": {},
     "output_type": "display_data"
    },
    {
     "data": {
      "text/html": [
       "4,90000000000001"
      ],
      "text/latex": [
       "4,90000000000001"
      ],
      "text/markdown": [
       "4,90000000000001"
      ],
      "text/plain": [
       "[1] 4,9"
      ]
     },
     "metadata": {},
     "output_type": "display_data"
    }
   ],
   "source": [
    "median(data_N2080)\n",
    "median(data_N3070)\n",
    "median(data_A6800)\n",
    "median(data_A7700)"
   ]
  },
  {
   "cell_type": "code",
   "execution_count": 37,
   "metadata": {
    "vscode": {
     "languageId": "r"
    }
   },
   "outputs": [],
   "source": [
    "# Výpočet Wilcoxonova testu pro jednotlivé modely karet\n",
    "t1 <- wilcox.test(data_N2080, mu = 0, alternative = \"greater\", conf.int = TRUE, conf.level = 0.95)\n",
    "t2 <- wilcox.test(data_N3070, mu = 0, alternative = \"greater\", conf.int = TRUE, conf.level = 0.95)\n",
    "t3 <- wilcox.test(data_A6800, mu = 0, alternative = \"greater\", conf.int = TRUE, conf.level = 0.95)\n",
    "t4 <- wilcox.test(data_A7700, mu = 0, alternative = \"greater\", conf.int = TRUE, conf.level = 0.95)"
   ]
  },
  {
   "cell_type": "code",
   "execution_count": 38,
   "metadata": {
    "vscode": {
     "languageId": "r"
    }
   },
   "outputs": [
    {
     "name": "stdout",
     "output_type": "stream",
     "text": [
      "Model N2080:\n",
      "P-hodnota: 0,000000000000179477 \n",
      "Dolní mez: 4,950063 \n",
      "Horní mez: Inf \n",
      "\n",
      "Model N3070:\n",
      "P-hodnota: 0,00000000000179216 \n",
      "Dolní mez: 4,500063 \n",
      "Horní mez: Inf \n",
      "\n",
      "Model A6800:\n",
      "P-hodnota: 0,000000000001221617 \n",
      "Dolní mez: 5,500029 \n",
      "Horní mez: Inf \n",
      "\n",
      "Model A7700:\n",
      "P-hodnota: 0,0000000000005649443 \n",
      "Dolní mez: 4,800048 \n",
      "Horní mez: Inf \n"
     ]
    }
   ],
   "source": [
    "# Výpis výsledků\n",
    "cat(\"Model N2080:\\n\")\n",
    "cat(\"P-hodnota:\", t1$p.value, \"\\n\")\n",
    "cat(\"Dolní mez:\", t1$conf.int[1], \"\\n\")\n",
    "cat(\"Horní mez:\", t1$conf.int[2], \"\\n\\n\")\n",
    "\n",
    "cat(\"Model N3070:\\n\")\n",
    "cat(\"P-hodnota:\", t2$p.value, \"\\n\")\n",
    "cat(\"Dolní mez:\", t2$conf.int[1], \"\\n\")\n",
    "cat(\"Horní mez:\", t2$conf.int[2], \"\\n\\n\")\n",
    "\n",
    "cat(\"Model A6800:\\n\")\n",
    "cat(\"P-hodnota:\", t3$p.value, \"\\n\")\n",
    "cat(\"Dolní mez:\", t3$conf.int[1], \"\\n\")\n",
    "cat(\"Horní mez:\", t3$conf.int[2], \"\\n\\n\")\n",
    "\n",
    "cat(\"Model A7700:\\n\")\n",
    "cat(\"P-hodnota:\", t4$p.value, \"\\n\")\n",
    "cat(\"Dolní mez:\", t4$conf.int[1], \"\\n\")\n",
    "cat(\"Horní mez:\", t4$conf.int[2], \"\\n\")"
   ]
  },
  {
   "cell_type": "code",
   "execution_count": 39,
   "metadata": {
    "vscode": {
     "languageId": "r"
    }
   },
   "outputs": [],
   "source": [
    "combined_data <- data.frame(\n",
    "  values = c(data_N2080, data_N3070, data_A6800, data_A7700),\n",
    "  group = factor(c(rep(\"N2080\", length(data_N2080)), \n",
    "                   rep(\"N3070\", length(data_N3070)), \n",
    "                   rep(\"A6800\", length(data_A6800)), \n",
    "                   rep(\"A7700\", length(data_A7700))))\n",
    ")"
   ]
  },
  {
   "cell_type": "code",
   "execution_count": 40,
   "metadata": {
    "vscode": {
     "languageId": "r"
    }
   },
   "outputs": [
    {
     "name": "stdout",
     "output_type": "stream",
     "text": [
      "\n",
      "\tKruskal-Wallis rank sum test\n",
      "\n",
      "data:  values by group\n",
      "Kruskal-Wallis chi-squared = 43,983, df = 3, p-value = 0,000000001522\n",
      "\n"
     ]
    }
   ],
   "source": [
    "kruskal_test <- kruskal.test(values ~ group, data = combined_data)\n",
    "print(kruskal_test)"
   ]
  },
  {
   "cell_type": "code",
   "execution_count": 41,
   "metadata": {
    "vscode": {
     "languageId": "r"
    }
   },
   "outputs": [
    {
     "data": {
      "text/html": [
       "<table class=\"dataframe\">\n",
       "<caption>A data.frame: 6 × 4</caption>\n",
       "<thead>\n",
       "\t<tr><th scope=col>Comparison</th><th scope=col>Z</th><th scope=col>P.unadj</th><th scope=col>P.adj</th></tr>\n",
       "\t<tr><th scope=col>&lt;chr&gt;</th><th scope=col>&lt;dbl&gt;</th><th scope=col>&lt;dbl&gt;</th><th scope=col>&lt;dbl&gt;</th></tr>\n",
       "</thead>\n",
       "<tbody>\n",
       "\t<tr><td>A6800 - A7700</td><td> 4,878241</td><td>0,0000010703594397</td><td>0,000006422156638</td></tr>\n",
       "\t<tr><td>A6800 - N2080</td><td> 3,714672</td><td>0,0002034673436680</td><td>0,001220804062008</td></tr>\n",
       "\t<tr><td>A7700 - N2080</td><td>-1,225394</td><td>0,2204268603734584</td><td>1,000000000000000</td></tr>\n",
       "\t<tr><td>A6800 - N3070</td><td> 6,333157</td><td>0,0000000002401953</td><td>0,000000001441172</td></tr>\n",
       "\t<tr><td>A7700 - N3070</td><td> 1,521569</td><td>0,1281171272273538</td><td>0,768702763364123</td></tr>\n",
       "\t<tr><td>N2080 - N3070</td><td> 2,748730</td><td>0,0059826559540346</td><td>0,035895935724207</td></tr>\n",
       "</tbody>\n",
       "</table>\n"
      ],
      "text/latex": [
       "A data.frame: 6 × 4\n",
       "\\begin{tabular}{llll}\n",
       " Comparison & Z & P.unadj & P.adj\\\\\n",
       " <chr> & <dbl> & <dbl> & <dbl>\\\\\n",
       "\\hline\n",
       "\t A6800 - A7700 &  4,878241 & 0,0000010703594397 & 0,000006422156638\\\\\n",
       "\t A6800 - N2080 &  3,714672 & 0,0002034673436680 & 0,001220804062008\\\\\n",
       "\t A7700 - N2080 & -1,225394 & 0,2204268603734584 & 1,000000000000000\\\\\n",
       "\t A6800 - N3070 &  6,333157 & 0,0000000002401953 & 0,000000001441172\\\\\n",
       "\t A7700 - N3070 &  1,521569 & 0,1281171272273538 & 0,768702763364123\\\\\n",
       "\t N2080 - N3070 &  2,748730 & 0,0059826559540346 & 0,035895935724207\\\\\n",
       "\\end{tabular}\n"
      ],
      "text/markdown": [
       "\n",
       "A data.frame: 6 × 4\n",
       "\n",
       "| Comparison &lt;chr&gt; | Z &lt;dbl&gt; | P.unadj &lt;dbl&gt; | P.adj &lt;dbl&gt; |\n",
       "|---|---|---|---|\n",
       "| A6800 - A7700 |  4,878241 | 0,0000010703594397 | 0,000006422156638 |\n",
       "| A6800 - N2080 |  3,714672 | 0,0002034673436680 | 0,001220804062008 |\n",
       "| A7700 - N2080 | -1,225394 | 0,2204268603734584 | 1,000000000000000 |\n",
       "| A6800 - N3070 |  6,333157 | 0,0000000002401953 | 0,000000001441172 |\n",
       "| A7700 - N3070 |  1,521569 | 0,1281171272273538 | 0,768702763364123 |\n",
       "| N2080 - N3070 |  2,748730 | 0,0059826559540346 | 0,035895935724207 |\n",
       "\n"
      ],
      "text/plain": [
       "  Comparison    Z         P.unadj            P.adj            \n",
       "1 A6800 - A7700  4,878241 0,0000010703594397 0,000006422156638\n",
       "2 A6800 - N2080  3,714672 0,0002034673436680 0,001220804062008\n",
       "3 A7700 - N2080 -1,225394 0,2204268603734584 1,000000000000000\n",
       "4 A6800 - N3070  6,333157 0,0000000002401953 0,000000001441172\n",
       "5 A7700 - N3070  1,521569 0,1281171272273538 0,768702763364123\n",
       "6 N2080 - N3070  2,748730 0,0059826559540346 0,035895935724207"
      ]
     },
     "metadata": {},
     "output_type": "display_data"
    }
   ],
   "source": [
    "dunn_test <- dunnTest(values ~ group, data = combined_data, method = \"bonferroni\")\n",
    "dunn_test$res"
   ]
  },
  {
   "cell_type": "code",
   "execution_count": 54,
   "metadata": {
    "vscode": {
     "languageId": "r"
    }
   },
   "outputs": [
    {
     "data": {
      "text/plain": [
       "             Df Sum Sq Mean Sq F value          Pr(>F)    \n",
       "group         3  37,17  12,390   19,95 0,0000000000112 ***\n",
       "Residuals   262 162,72   0,621                            \n",
       "---\n",
       "Signif. codes:  0 '***' 0,001 '**' 0,01 '*' 0,05 '.' 0,1 ' ' 1"
      ]
     },
     "metadata": {},
     "output_type": "display_data"
    }
   ],
   "source": [
    "anova_test <- aov(values ~ group, data = combined_data)\n",
    "summary(anova_test)"
   ]
  },
  {
   "cell_type": "code",
   "execution_count": 51,
   "metadata": {
    "vscode": {
     "languageId": "r"
    }
   },
   "outputs": [
    {
     "data": {
      "text/plain": [
       "  Tukey multiple comparisons of means\n",
       "    95% family-wise confidence level\n",
       "\n",
       "Fit: aov(formula = values ~ group, data = combined_data)\n",
       "\n",
       "$group\n",
       "                  diff        lwr         upr     p adj\n",
       "A7700-A6800 -0,7857635 -1,1405131 -0,43101384 0,0000002\n",
       "N2080-A6800 -0,5930769 -0,9440633 -0,24209053 0,0001056\n",
       "N3070-A6800 -1,0230769 -1,3818975 -0,66425639 0,0000000\n",
       "N2080-A7700  0,1926866 -0,1555729  0,54094606 0,4814130\n",
       "N3070-A7700 -0,2373134 -0,5934670  0,11884018 0,3138726\n",
       "N3070-N2080 -0,4300000 -0,7824053 -0,07759465 0,0096452\n"
      ]
     },
     "metadata": {},
     "output_type": "display_data"
    }
   ],
   "source": [
    "TukeyHSD(anova_test)"
   ]
  }
 ],
 "metadata": {
  "kernelspec": {
   "display_name": "R",
   "language": "R",
   "name": "ir"
  },
  "language_info": {
   "codemirror_mode": "r",
   "file_extension": ".r",
   "mimetype": "text/x-r-source",
   "name": "R",
   "pygments_lexer": "r",
   "version": "4.4.1"
  }
 },
 "nbformat": 4,
 "nbformat_minor": 2
}
